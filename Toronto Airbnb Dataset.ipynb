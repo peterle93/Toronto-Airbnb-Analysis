{
 "metadata": {
  "language_info": {
   "codemirror_mode": {
    "name": "ipython",
    "version": 3
   },
   "file_extension": ".py",
   "mimetype": "text/x-python",
   "name": "python",
   "nbconvert_exporter": "python",
   "pygments_lexer": "ipython3",
   "version": "3.8.3-final"
  },
  "orig_nbformat": 2,
  "kernelspec": {
   "name": "python3",
   "display_name": "Python 3.8.3 64-bit",
   "metadata": {
    "interpreter": {
     "hash": "dc44e188f90d3dc04deaf720bbf8de1544c596b205badf0b60435035c6657c74"
    }
   }
  }
 },
 "nbformat": 4,
 "nbformat_minor": 2,
 "cells": [
  {
   "source": [
    "**Toronto Airbnb Dataset**"
   ],
   "cell_type": "markdown",
   "metadata": {}
  },
  {
   "source": [
    "Questions?\n",
    "\n",
    "**1) What are the most desired anementies that customers prefer when booking an Airbnbs?**\n",
    "\n",
    "2) Does the number of bedrooms increase the pricing of the  \n",
    "\n",
    "3) Which type of room is most preferred ? - entire house, private, etc\n",
    "\n",
    "4) Price - correlation with number of bedrooms, or bathrooms, etc   \n",
    "\n",
    "5) Number of bathrooms - number\n",
    "\n",
    "6) Property type - apartment, house,etc - increase cost?\n",
    "\n",
    "7) Reviews -  score rating - correlation with number of beds, increased satisfaction with the popular anementies - ?\n",
    "\n",
    "Does having the best anementies increase rating?\n",
    "\n",
    "Bedrooms and bathrooms - price increase?\n",
    "\n",
    "**3 MAIN ! Can we predict the price of the based on the features that are provided?**\n",
    "\n",
    "How well can we predict the cost of an Airbnb based on the features provided?\n",
    "\n",
    "Does the neighborhood of the Airbnb location have an influence on the cost price?\n",
    "example asnwer, \n",
    "we can see from the data ,yes, in fact, x percent of people in downtown costs more than the ones in x\n",
    "\n",
    "ratings = \n"
   ],
   "cell_type": "markdown",
   "metadata": {}
  },
  {
   "source": [
    "1. Installing and Importing Python Libraries"
   ],
   "cell_type": "markdown",
   "metadata": {}
  },
  {
   "cell_type": "code",
   "execution_count": 34,
   "metadata": {},
   "outputs": [],
   "source": [
    "import numpy as np\n",
    "import pandas as pd\n",
    "from sklearn.linear_model import LinearRegression\n",
    "from sklearn.model_selection import train_test_split\n",
    "from sklearn.metrics import r2_score, mean_squared_error\n",
    "\n",
    "import seaborn as sns\n",
    "from collections import defaultdict\n",
    "from sklearn.feature_selection import SelectKBest\n",
    "from sklearn.feature_selection import f_regression\n",
    "import math\n",
    "\n",
    "import matplotlib.pyplot as plt\n",
    "import matplotlib.cm as cm\n",
    "import matplotlib.colors as colors\n",
    "%matplotlib inline\n"
   ]
  },
  {
   "cell_type": "code",
   "execution_count": 57,
   "metadata": {},
   "outputs": [],
   "source": [
    "df_list = pd.read_csv('listings_sep_09_2020.csv')"
   ]
  },
  {
   "cell_type": "code",
   "execution_count": 53,
   "metadata": {},
   "outputs": [
    {
     "output_type": "execute_result",
     "data": {
      "text/plain": [
       "id                                                int64\n",
       "listing_url                                      object\n",
       "scrape_id                                         int64\n",
       "last_scraped                                     object\n",
       "name                                             object\n",
       "                                                 ...   \n",
       "calculated_host_listings_count                    int64\n",
       "calculated_host_listings_count_entire_homes       int64\n",
       "calculated_host_listings_count_private_rooms      int64\n",
       "calculated_host_listings_count_shared_rooms       int64\n",
       "reviews_per_month                               float64\n",
       "Length: 74, dtype: object"
      ]
     },
     "metadata": {},
     "execution_count": 53
    }
   ],
   "source": [
    "df_list.dtypes"
   ]
  },
  {
   "cell_type": "code",
   "execution_count": 36,
   "metadata": {},
   "outputs": [
    {
     "output_type": "execute_result",
     "data": {
      "text/plain": [
       "object     33\n",
       "int64      21\n",
       "float64    20\n",
       "dtype: int64"
      ]
     },
     "metadata": {},
     "execution_count": 36
    }
   ],
   "source": [
    "# displays the data types and the number of these data types in the dataset\n",
    "df_list.dtypes.value_counts()"
   ]
  },
  {
   "cell_type": "code",
   "execution_count": 37,
   "metadata": {},
   "outputs": [
    {
     "output_type": "execute_result",
     "data": {
      "text/plain": [
       "(19343, 74)"
      ]
     },
     "metadata": {},
     "execution_count": 37
    }
   ],
   "source": [
    "df_list.shape"
   ]
  },
  {
   "cell_type": "code",
   "execution_count": 38,
   "metadata": {},
   "outputs": [
    {
     "output_type": "execute_result",
     "data": {
      "text/plain": [
       "bathrooms                       19343\n",
       "license                         19343\n",
       "neighbourhood_group_cleansed    19343\n",
       "calendar_updated                19343\n",
       "host_about                       8385\n",
       "                                ...  \n",
       "longitude                           0\n",
       "latitude                            0\n",
       "calendar_last_scraped               0\n",
       "neighbourhood_cleansed              0\n",
       "id                                  0\n",
       "Length: 74, dtype: int64"
      ]
     },
     "metadata": {},
     "execution_count": 38
    }
   ],
   "source": [
    "# displays columns with missing values\n",
    "df_list.isnull().sum().sort_values(ascending=False)"
   ]
  },
  {
   "cell_type": "code",
   "execution_count": 39,
   "metadata": {},
   "outputs": [
    {
     "output_type": "execute_result",
     "data": {
      "text/plain": [
       "id             19343\n",
       "listing_url    19343\n",
       "dtype: int64"
      ]
     },
     "metadata": {},
     "execution_count": 39
    }
   ],
   "source": [
    "#Below code shows the columns names that do not have any missing values and all values are unique (different from each other) \n",
    "df_list.nunique()[df_list.nunique()==len(df_list)]"
   ]
  },
  {
   "cell_type": "code",
   "execution_count": 55,
   "metadata": {},
   "outputs": [
    {
     "output_type": "execute_result",
     "data": {
      "text/plain": [
       "neighbourhood_cleansed\n",
       "Waterfront Communities-The Island    3291\n",
       "Niagara                               836\n",
       "Annex                                 630\n",
       "Church-Yonge Corridor                 628\n",
       "Bay Street Corridor                   584\n",
       "                                     ... \n",
       "Elms-Old Rexdale                       12\n",
       "Beechborough-Greenbrook                11\n",
       "Thistletown-Beaumond Heights           11\n",
       "Markland Wood                          10\n",
       "Rustic                                  9\n",
       "Name: id, Length: 140, dtype: int64"
      ]
     },
     "metadata": {},
     "execution_count": 55
    }
   ],
   "source": [
    "#The number of listings in each neighbourhood\n",
    "df_list.groupby('neighbourhood_cleansed').count()['id'].sort_values(ascending = False)"
   ]
  },
  {
   "cell_type": "code",
   "execution_count": 61,
   "metadata": {},
   "outputs": [
    {
     "output_type": "error",
     "ename": "NameError",
     "evalue": "name 'reviews' is not defined",
     "traceback": [
      "\u001b[1;31m---------------------------------------------------------------------------\u001b[0m",
      "\u001b[1;31mNameError\u001b[0m                                 Traceback (most recent call last)",
      "\u001b[1;32m<ipython-input-61-2ffc5f91244f>\u001b[0m in \u001b[0;36m<module>\u001b[1;34m\u001b[0m\n\u001b[1;32m----> 1\u001b[1;33m \u001b[0mreviews\u001b[0m\u001b[1;33m.\u001b[0m\u001b[0mshape\u001b[0m\u001b[1;33m\u001b[0m\u001b[1;33m\u001b[0m\u001b[0m\n\u001b[0m",
      "\u001b[1;31mNameError\u001b[0m: name 'reviews' is not defined"
     ]
    }
   ],
   "source": [
    "reviews.shape"
   ]
  },
  {
   "cell_type": "code",
   "execution_count": 40,
   "metadata": {},
   "outputs": [
    {
     "output_type": "execute_result",
     "data": {
      "text/plain": [
       "13"
      ]
     },
     "metadata": {},
     "execution_count": 40
    }
   ],
   "source": [
    "cat_df = df_list.select_dtypes(include=['object'])# Subset to a dataframe only holding the categorical columns\n",
    "\n",
    "# Print how many categorical columns are in the dataframe - should be 147\n",
    "cat_df.shape[1]\n",
    "\n",
    "np.sum(np.sum(cat_df.isnull())/cat_df.shape[0] == 0)# Cell for your work here # number of columns with no missing values\n"
   ]
  },
  {
   "cell_type": "code",
   "execution_count": 41,
   "metadata": {},
   "outputs": [
    {
     "output_type": "execute_result",
     "data": {
      "text/plain": [
       "[]                                                                                                                                                                                                                                                                                                                                                                                                                                                                                                                                                                                                                                                                             63\n",
       "[\"Carbon monoxide alarm\", \"Shampoo\", \"Iron\", \"Dryer\", \"Free parking on premises\", \"Kitchen\", \"Fire extinguisher\", \"Hangers\", \"Hair dryer\", \"Wifi\", \"Air conditioning\", \"Heating\", \"Washer\", \"Smoke alarm\", \"First aid kit\", \"Hot water\", \"Essentials\", \"Laptop-friendly workspace\"]                                                                                                                                                                                                                                                                                                                                                                                            37\n",
       "[\"Carbon monoxide alarm\", \"Shampoo\", \"Dryer\", \"Lock on bedroom door\", \"Fire extinguisher\", \"Kitchen\", \"Wifi\", \"Air conditioning\", \"Heating\", \"Washer\", \"Smoke alarm\", \"First aid kit\", \"Essentials\", \"Laptop-friendly workspace\"]                                                                                                                                                                                                                                                                                                                                                                                                                                              13\n",
       "[\"Shampoo\", \"Iron\", \"TV\", \"Dryer\", \"Building staff\", \"Lock on bedroom door\", \"Kitchen\", \"Hangers\", \"Hair dryer\", \"Wifi\", \"Air conditioning\", \"Private living room\", \"Heating\", \"Washer\", \"Hot water\", \"Essentials\", \"Laptop-friendly workspace\"]                                                                                                                                                                                                                                                                                                                                                                                                                               12\n",
       "[\"Carbon monoxide alarm\", \"Shampoo\", \"Iron\", \"Dryer\", \"Indoor fireplace\", \"Free parking on premises\", \"Kitchen\", \"Fire extinguisher\", \"Hangers\", \"Hair dryer\", \"Wifi\", \"Air conditioning\", \"Heating\", \"Washer\", \"Smoke alarm\", \"First aid kit\", \"Hot water\", \"Essentials\", \"Laptop-friendly workspace\"]                                                                                                                                                                                                                                                                                                                                                                        12\n",
       "                                                                                                                                                                                                                                                                                                                                                                                                                                                                                                                                                                                                                                                                               ..\n",
       "[\"Carbon monoxide alarm\", \"Private entrance\", \"Kitchen\", \"Shower gel\", \"Air conditioning\", \"Coffee maker\", \"First aid kit\", \"Essentials\", \"Smoke alarm\", \"Dishwasher\", \"Dishes and silverware\", \"Stove\", \"Dryer\", \"Luggage dropoff allowed\", \"Fire extinguisher\", \"Washer\", \"Shampoo\", \"Oven\", \"Single level home\", \"Long term stays allowed\", \"Gym\", \"Paid parking off premises\", \"Hangers\", \"Wifi\", \"Heating\", \"Cooking basics\", \"Laptop-friendly workspace\", \"Cable TV\", \"Iron\", \"TV\", \"Free street parking\", \"Lockbox\", \"Free parking on premises\", \"Baking sheet\", \"Extra pillows and blankets\", \"Microwave\", \"Bed linens\", \"Refrigerator\", \"Hot water\", \"Hair dryer\"]     1\n",
       "[\"Shampoo\", \"Iron\", \"TV\", \"Elevator\", \"Pool\", \"Gym\", \"Free street parking\", \"Kitchen\", \"Wifi\", \"Heating\", \"Washer\", \"Smoke alarm\", \"First aid kit\", \"Hot water\", \"Essentials\", \"Laptop-friendly workspace\"]                                                                                                                                                                                                                                                                                                                                                                                                                                                                     1\n",
       "[\"Carbon monoxide alarm\", \"Iron\", \"TV\", \"Lock on bedroom door\", \"Free parking on premises\", \"Kitchen\", \"Hangers\", \"Wifi\", \"Air conditioning\", \"Heating\", \"Smoke alarm\", \"First aid kit\", \"Hair dryer\", \"Essentials\", \"Laptop-friendly workspace\", \"Cable TV\"]                                                                                                                                                                                                                                                                                                                                                                                                                   1\n",
       "[\"Carbon monoxide alarm\", \"Private entrance\", \"Kitchen\", \"Air conditioning\", \"Coffee maker\", \"First aid kit\", \"Bathtub\", \"Essentials\", \"Smoke alarm\", \"Dishwasher\", \"Garden or backyard\", \"Dishes and silverware\", \"Stove\", \"Dryer\", \"Fire extinguisher\", \"Washer\", \"Shampoo\", \"Patio or balcony\", \"Oven\", \"Long term stays allowed\", \"Hangers\", \"Wifi\", \"Heating\", \"Cooking basics\", \"Laptop-friendly workspace\", \"Smart lock\", \"Iron\", \"TV\", \"Free street parking\", \"Free parking on premises\", \"Microwave\", \"Refrigerator\", \"Hot water\", \"Hair dryer\"]                                                                                                                       1\n",
       "[\"Carbon monoxide alarm\", \"Kitchen\", \"Shower gel\", \"Air conditioning\", \"Essentials\", \"Smoke alarm\", \"Garden or backyard\", \"Dishes and silverware\", \"Stove\", \"Dryer\", \"Washer\", \"Shampoo\", \"Patio or balcony\", \"Oven\", \"Single level home\", \"Lock on bedroom door\", \"Hangers\", \"Wifi\", \"Heating\", \"Cooking basics\", \"Laptop-friendly workspace\", \"Iron\", \"Free parking on premises\", \"Microwave\", \"Keypad\", \"Refrigerator\", \"Hot water\", \"Hair dryer\"]                                                                                                                                                                                                                           1\n",
       "Name: amenities, Length: 17675, dtype: int64"
      ]
     },
     "metadata": {},
     "execution_count": 41
    }
   ],
   "source": [
    "df_list['amenities'].value_counts().sort_values(ascending=False) #Provide a pandas series of the counts for each Professional status"
   ]
  },
  {
   "cell_type": "code",
   "execution_count": null,
   "metadata": {},
   "outputs": [],
   "source": []
  },
  {
   "cell_type": "code",
   "execution_count": 49,
   "metadata": {},
   "outputs": [
    {
     "output_type": "execute_result",
     "data": {
      "text/plain": [
       "                                                name  \\\n",
       "0                    Beautiful home in amazing area!   \n",
       "1                 Downtown Harbourfront Private Room   \n",
       "2                     Seaton Village Parlour Bedroom   \n",
       "3                    Queen Bedroom close to downtown   \n",
       "4  World Class downtown @CN Tower Theatre MTCC ga...   \n",
       "\n",
       "              neighbourhood_cleansed              property_type  bedrooms  \\\n",
       "0                    Little Portugal               Entire house       5.0   \n",
       "1  Waterfront Communities-The Island  Private room in apartment       1.0   \n",
       "2                              Annex      Private room in house       1.0   \n",
       "3               Briar Hill-Belgravia      Private room in house       1.0   \n",
       "4  Waterfront Communities-The Island         Entire condominium       1.0   \n",
       "\n",
       "                                           amenities    price  \\\n",
       "0  [\"Shampoo\", \"TV\", \"Dryer\", \"Indoor fireplace\",...  $469.00   \n",
       "1  [\"Shampoo\", \"TV\", \"Pool\", \"Gym\", \"Free parking...   $99.00   \n",
       "2                       [\"Indoor fireplace\", \"Wifi\"]   $66.00   \n",
       "3  [\"Carbon monoxide alarm\", \"Private entrance\", ...   $70.00   \n",
       "4  [\"Carbon monoxide alarm\", \"Private entrance\", ...  $135.00   \n",
       "\n",
       "   availability_30  number_of_reviews  review_scores_rating  \n",
       "0                0                  7                 100.0  \n",
       "1               30                169                  97.0  \n",
       "2                0                  0                   NaN  \n",
       "3                0                217                  95.0  \n",
       "4               23                 40                  95.0  "
      ],
      "text/html": "<div>\n<style scoped>\n    .dataframe tbody tr th:only-of-type {\n        vertical-align: middle;\n    }\n\n    .dataframe tbody tr th {\n        vertical-align: top;\n    }\n\n    .dataframe thead th {\n        text-align: right;\n    }\n</style>\n<table border=\"1\" class=\"dataframe\">\n  <thead>\n    <tr style=\"text-align: right;\">\n      <th></th>\n      <th>name</th>\n      <th>neighbourhood_cleansed</th>\n      <th>property_type</th>\n      <th>bedrooms</th>\n      <th>amenities</th>\n      <th>price</th>\n      <th>availability_30</th>\n      <th>number_of_reviews</th>\n      <th>review_scores_rating</th>\n    </tr>\n  </thead>\n  <tbody>\n    <tr>\n      <th>0</th>\n      <td>Beautiful home in amazing area!</td>\n      <td>Little Portugal</td>\n      <td>Entire house</td>\n      <td>5.0</td>\n      <td>[\"Shampoo\", \"TV\", \"Dryer\", \"Indoor fireplace\",...</td>\n      <td>$469.00</td>\n      <td>0</td>\n      <td>7</td>\n      <td>100.0</td>\n    </tr>\n    <tr>\n      <th>1</th>\n      <td>Downtown Harbourfront Private Room</td>\n      <td>Waterfront Communities-The Island</td>\n      <td>Private room in apartment</td>\n      <td>1.0</td>\n      <td>[\"Shampoo\", \"TV\", \"Pool\", \"Gym\", \"Free parking...</td>\n      <td>$99.00</td>\n      <td>30</td>\n      <td>169</td>\n      <td>97.0</td>\n    </tr>\n    <tr>\n      <th>2</th>\n      <td>Seaton Village Parlour Bedroom</td>\n      <td>Annex</td>\n      <td>Private room in house</td>\n      <td>1.0</td>\n      <td>[\"Indoor fireplace\", \"Wifi\"]</td>\n      <td>$66.00</td>\n      <td>0</td>\n      <td>0</td>\n      <td>NaN</td>\n    </tr>\n    <tr>\n      <th>3</th>\n      <td>Queen Bedroom close to downtown</td>\n      <td>Briar Hill-Belgravia</td>\n      <td>Private room in house</td>\n      <td>1.0</td>\n      <td>[\"Carbon monoxide alarm\", \"Private entrance\", ...</td>\n      <td>$70.00</td>\n      <td>0</td>\n      <td>217</td>\n      <td>95.0</td>\n    </tr>\n    <tr>\n      <th>4</th>\n      <td>World Class downtown @CN Tower Theatre MTCC ga...</td>\n      <td>Waterfront Communities-The Island</td>\n      <td>Entire condominium</td>\n      <td>1.0</td>\n      <td>[\"Carbon monoxide alarm\", \"Private entrance\", ...</td>\n      <td>$135.00</td>\n      <td>23</td>\n      <td>40</td>\n      <td>95.0</td>\n    </tr>\n  </tbody>\n</table>\n</div>"
     },
     "metadata": {},
     "execution_count": 49
    }
   ],
   "source": [
    "\n",
    "df_org = df_list[['name', 'neighbourhood_cleansed', 'property_type', 'bedrooms', 'amenities', 'price', 'availability_30', 'number_of_reviews', 'review_scores_rating']]\n",
    "df_org.head()"
   ]
  },
  {
   "cell_type": "code",
   "execution_count": null,
   "metadata": {},
   "outputs": [],
   "source": []
  },
  {
   "cell_type": "code",
   "execution_count": null,
   "metadata": {},
   "outputs": [],
   "source": []
  },
  {
   "cell_type": "code",
   "execution_count": null,
   "metadata": {},
   "outputs": [],
   "source": []
  },
  {
   "cell_type": "code",
   "execution_count": 50,
   "metadata": {},
   "outputs": [
    {
     "output_type": "error",
     "ename": "KeyError",
     "evalue": "['price']",
     "traceback": [
      "\u001b[1;31m---------------------------------------------------------------------------\u001b[0m",
      "\u001b[1;31mKeyError\u001b[0m                                  Traceback (most recent call last)",
      "\u001b[1;32m<ipython-input-50-52b52a99cda0>\u001b[0m in \u001b[0;36m<module>\u001b[1;34m\u001b[0m\n\u001b[0;32m      3\u001b[0m \u001b[1;33m\u001b[0m\u001b[0m\n\u001b[0;32m      4\u001b[0m \u001b[1;31m#Drop the rows with missing salaries\u001b[0m\u001b[1;33m\u001b[0m\u001b[1;33m\u001b[0m\u001b[1;33m\u001b[0m\u001b[0m\n\u001b[1;32m----> 5\u001b[1;33m \u001b[0mdrop_sal_df\u001b[0m \u001b[1;33m=\u001b[0m \u001b[0mnum_vars\u001b[0m\u001b[1;33m.\u001b[0m\u001b[0mdropna\u001b[0m\u001b[1;33m(\u001b[0m\u001b[0msubset\u001b[0m\u001b[1;33m=\u001b[0m\u001b[1;33m[\u001b[0m\u001b[1;34m'price'\u001b[0m\u001b[1;33m]\u001b[0m\u001b[1;33m,\u001b[0m \u001b[0maxis\u001b[0m\u001b[1;33m=\u001b[0m\u001b[1;36m0\u001b[0m\u001b[1;33m)\u001b[0m\u001b[1;33m\u001b[0m\u001b[1;33m\u001b[0m\u001b[0m\n\u001b[0m\u001b[0;32m      6\u001b[0m \u001b[1;33m\u001b[0m\u001b[0m\n\u001b[0;32m      7\u001b[0m \u001b[1;31m# Mean function\u001b[0m\u001b[1;33m\u001b[0m\u001b[1;33m\u001b[0m\u001b[1;33m\u001b[0m\u001b[0m\n",
      "\u001b[1;32m~\\AppData\\Local\\Programs\\Python\\Python38\\lib\\site-packages\\pandas\\core\\frame.py\u001b[0m in \u001b[0;36mdropna\u001b[1;34m(self, axis, how, thresh, subset, inplace)\u001b[0m\n\u001b[0;32m   5002\u001b[0m             \u001b[0mcheck\u001b[0m \u001b[1;33m=\u001b[0m \u001b[0mindices\u001b[0m \u001b[1;33m==\u001b[0m \u001b[1;33m-\u001b[0m\u001b[1;36m1\u001b[0m\u001b[1;33m\u001b[0m\u001b[1;33m\u001b[0m\u001b[0m\n\u001b[0;32m   5003\u001b[0m             \u001b[1;32mif\u001b[0m \u001b[0mcheck\u001b[0m\u001b[1;33m.\u001b[0m\u001b[0many\u001b[0m\u001b[1;33m(\u001b[0m\u001b[1;33m)\u001b[0m\u001b[1;33m:\u001b[0m\u001b[1;33m\u001b[0m\u001b[1;33m\u001b[0m\u001b[0m\n\u001b[1;32m-> 5004\u001b[1;33m                 \u001b[1;32mraise\u001b[0m \u001b[0mKeyError\u001b[0m\u001b[1;33m(\u001b[0m\u001b[0mlist\u001b[0m\u001b[1;33m(\u001b[0m\u001b[0mnp\u001b[0m\u001b[1;33m.\u001b[0m\u001b[0mcompress\u001b[0m\u001b[1;33m(\u001b[0m\u001b[0mcheck\u001b[0m\u001b[1;33m,\u001b[0m \u001b[0msubset\u001b[0m\u001b[1;33m)\u001b[0m\u001b[1;33m)\u001b[0m\u001b[1;33m)\u001b[0m\u001b[1;33m\u001b[0m\u001b[1;33m\u001b[0m\u001b[0m\n\u001b[0m\u001b[0;32m   5005\u001b[0m             \u001b[0magg_obj\u001b[0m \u001b[1;33m=\u001b[0m \u001b[0mself\u001b[0m\u001b[1;33m.\u001b[0m\u001b[0mtake\u001b[0m\u001b[1;33m(\u001b[0m\u001b[0mindices\u001b[0m\u001b[1;33m,\u001b[0m \u001b[0maxis\u001b[0m\u001b[1;33m=\u001b[0m\u001b[0magg_axis\u001b[0m\u001b[1;33m)\u001b[0m\u001b[1;33m\u001b[0m\u001b[1;33m\u001b[0m\u001b[0m\n\u001b[0;32m   5006\u001b[0m \u001b[1;33m\u001b[0m\u001b[0m\n",
      "\u001b[1;31mKeyError\u001b[0m: ['price']"
     ]
    }
   ],
   "source": [
    "#Only use quant variables and drop any rows with missing values\n",
    "num_vars = df_list[['bedrooms', 'amenities', 'availability_30', 'number_of_reviews', 'review_scores_rating']]\n",
    "\n",
    "#Drop the rows with missing salaries\n",
    "drop_sal_df = num_vars.dropna(subset=['price'], axis=0)\n",
    "\n",
    "# Mean function\n",
    "fill_mean = lambda col: col.fillna(col.mean())\n",
    "# Fill the mean\n",
    "fill_df = drop_sal_df.apply(fill_mean, axis=0)\n",
    "\n",
    "#Split into explanatory and response variables\n",
    "X = fill_df[['bedrooms', 'amenities', 'availability_30', 'number_of_reviews', 'review_scores_rating']]\n",
    "y = fill_df['price']\n",
    "\n",
    "#Split into train and test\n",
    "X_train, X_test, y_train, y_test = train_test_split(X, y, test_size = .30, random_state=42) \n",
    "\n",
    "lm_model = LinearRegression(normalize=True) # Instantiate\n",
    "lm_model.fit(X_train, y_train) #Fit"
   ]
  },
  {
   "cell_type": "code",
   "execution_count": 75,
   "metadata": {},
   "outputs": [
    {
     "output_type": "stream",
     "name": "stdout",
     "text": [
      "(19343, 74)\n"
     ]
    }
   ],
   "source": [
    "print(df_list.shape)"
   ]
  },
  {
   "cell_type": "code",
   "execution_count": 76,
   "metadata": {},
   "outputs": [
    {
     "output_type": "execute_result",
     "data": {
      "text/plain": [
       "                 id     scrape_id       host_id  host_listings_count  \\\n",
       "count  1.934300e+04  1.934300e+04  1.934300e+04          19339.00000   \n",
       "mean   2.643076e+07  2.020091e+13  1.075906e+08              5.52283   \n",
       "std    1.279592e+07  0.000000e+00  1.041941e+08             15.39491   \n",
       "min    1.419000e+03  2.020091e+13  1.565000e+03              0.00000   \n",
       "25%    1.624379e+07  2.020091e+13  2.062439e+07              1.00000   \n",
       "50%    2.756845e+07  2.020091e+13  6.718598e+07              1.00000   \n",
       "75%    3.804992e+07  2.020091e+13  1.814624e+08              4.00000   \n",
       "max    4.535132e+07  2.020091e+13  3.664602e+08            272.00000   \n",
       "\n",
       "       host_total_listings_count  neighbourhood_group_cleansed     latitude  \\\n",
       "count                19339.00000                           0.0  19343.00000   \n",
       "mean                     5.52283                           NaN     43.68067   \n",
       "std                     15.39491                           NaN      0.04799   \n",
       "min                      0.00000                           NaN     43.58671   \n",
       "25%                      1.00000                           NaN     43.64556   \n",
       "50%                      1.00000                           NaN     43.66277   \n",
       "75%                      4.00000                           NaN     43.69989   \n",
       "max                    272.00000                           NaN     43.83516   \n",
       "\n",
       "          longitude  accommodates  bathrooms  ...  review_scores_checkin  \\\n",
       "count  19343.000000  19343.000000        0.0  ...           14974.000000   \n",
       "mean     -79.397729      3.059453        NaN  ...               9.724723   \n",
       "std        0.064381      2.027237        NaN  ...               0.782041   \n",
       "min      -79.634720      1.000000        NaN  ...               2.000000   \n",
       "25%      -79.426415      2.000000        NaN  ...              10.000000   \n",
       "50%      -79.397490      2.000000        NaN  ...              10.000000   \n",
       "75%      -79.376830      4.000000        NaN  ...              10.000000   \n",
       "max      -79.127810     16.000000        NaN  ...              10.000000   \n",
       "\n",
       "       review_scores_communication  review_scores_location  \\\n",
       "count                 14978.000000            14971.000000   \n",
       "mean                      9.733876                9.720059   \n",
       "std                       0.797909                0.690414   \n",
       "min                       2.000000                2.000000   \n",
       "25%                      10.000000               10.000000   \n",
       "50%                      10.000000               10.000000   \n",
       "75%                      10.000000               10.000000   \n",
       "max                      10.000000               10.000000   \n",
       "\n",
       "       review_scores_value  license  calculated_host_listings_count  \\\n",
       "count         14972.000000      0.0                    19343.000000   \n",
       "mean              9.447903      NaN                        4.403919   \n",
       "std               0.956832      NaN                        8.791279   \n",
       "min               2.000000      NaN                        1.000000   \n",
       "25%               9.000000      NaN                        1.000000   \n",
       "50%              10.000000      NaN                        1.000000   \n",
       "75%              10.000000      NaN                        3.000000   \n",
       "max              10.000000      NaN                       67.000000   \n",
       "\n",
       "       calculated_host_listings_count_entire_homes  \\\n",
       "count                                 19343.000000   \n",
       "mean                                      2.789381   \n",
       "std                                       7.834743   \n",
       "min                                       0.000000   \n",
       "25%                                       0.000000   \n",
       "50%                                       1.000000   \n",
       "75%                                       2.000000   \n",
       "max                                      64.000000   \n",
       "\n",
       "       calculated_host_listings_count_private_rooms  \\\n",
       "count                                  19343.000000   \n",
       "mean                                       1.335418   \n",
       "std                                        3.037097   \n",
       "min                                        0.000000   \n",
       "25%                                        0.000000   \n",
       "50%                                        0.000000   \n",
       "75%                                        1.000000   \n",
       "max                                       30.000000   \n",
       "\n",
       "       calculated_host_listings_count_shared_rooms  reviews_per_month  \n",
       "count                                 19343.000000       15278.000000  \n",
       "mean                                      0.231453           1.256697  \n",
       "std                                       2.795431           1.628429  \n",
       "min                                       0.000000           0.010000  \n",
       "25%                                       0.000000           0.200000  \n",
       "50%                                       0.000000           0.620000  \n",
       "75%                                       0.000000           1.670000  \n",
       "max                                      46.000000          16.130000  \n",
       "\n",
       "[8 rows x 41 columns]"
      ],
      "text/html": "<div>\n<style scoped>\n    .dataframe tbody tr th:only-of-type {\n        vertical-align: middle;\n    }\n\n    .dataframe tbody tr th {\n        vertical-align: top;\n    }\n\n    .dataframe thead th {\n        text-align: right;\n    }\n</style>\n<table border=\"1\" class=\"dataframe\">\n  <thead>\n    <tr style=\"text-align: right;\">\n      <th></th>\n      <th>id</th>\n      <th>scrape_id</th>\n      <th>host_id</th>\n      <th>host_listings_count</th>\n      <th>host_total_listings_count</th>\n      <th>neighbourhood_group_cleansed</th>\n      <th>latitude</th>\n      <th>longitude</th>\n      <th>accommodates</th>\n      <th>bathrooms</th>\n      <th>...</th>\n      <th>review_scores_checkin</th>\n      <th>review_scores_communication</th>\n      <th>review_scores_location</th>\n      <th>review_scores_value</th>\n      <th>license</th>\n      <th>calculated_host_listings_count</th>\n      <th>calculated_host_listings_count_entire_homes</th>\n      <th>calculated_host_listings_count_private_rooms</th>\n      <th>calculated_host_listings_count_shared_rooms</th>\n      <th>reviews_per_month</th>\n    </tr>\n  </thead>\n  <tbody>\n    <tr>\n      <th>count</th>\n      <td>1.934300e+04</td>\n      <td>1.934300e+04</td>\n      <td>1.934300e+04</td>\n      <td>19339.00000</td>\n      <td>19339.00000</td>\n      <td>0.0</td>\n      <td>19343.00000</td>\n      <td>19343.000000</td>\n      <td>19343.000000</td>\n      <td>0.0</td>\n      <td>...</td>\n      <td>14974.000000</td>\n      <td>14978.000000</td>\n      <td>14971.000000</td>\n      <td>14972.000000</td>\n      <td>0.0</td>\n      <td>19343.000000</td>\n      <td>19343.000000</td>\n      <td>19343.000000</td>\n      <td>19343.000000</td>\n      <td>15278.000000</td>\n    </tr>\n    <tr>\n      <th>mean</th>\n      <td>2.643076e+07</td>\n      <td>2.020091e+13</td>\n      <td>1.075906e+08</td>\n      <td>5.52283</td>\n      <td>5.52283</td>\n      <td>NaN</td>\n      <td>43.68067</td>\n      <td>-79.397729</td>\n      <td>3.059453</td>\n      <td>NaN</td>\n      <td>...</td>\n      <td>9.724723</td>\n      <td>9.733876</td>\n      <td>9.720059</td>\n      <td>9.447903</td>\n      <td>NaN</td>\n      <td>4.403919</td>\n      <td>2.789381</td>\n      <td>1.335418</td>\n      <td>0.231453</td>\n      <td>1.256697</td>\n    </tr>\n    <tr>\n      <th>std</th>\n      <td>1.279592e+07</td>\n      <td>0.000000e+00</td>\n      <td>1.041941e+08</td>\n      <td>15.39491</td>\n      <td>15.39491</td>\n      <td>NaN</td>\n      <td>0.04799</td>\n      <td>0.064381</td>\n      <td>2.027237</td>\n      <td>NaN</td>\n      <td>...</td>\n      <td>0.782041</td>\n      <td>0.797909</td>\n      <td>0.690414</td>\n      <td>0.956832</td>\n      <td>NaN</td>\n      <td>8.791279</td>\n      <td>7.834743</td>\n      <td>3.037097</td>\n      <td>2.795431</td>\n      <td>1.628429</td>\n    </tr>\n    <tr>\n      <th>min</th>\n      <td>1.419000e+03</td>\n      <td>2.020091e+13</td>\n      <td>1.565000e+03</td>\n      <td>0.00000</td>\n      <td>0.00000</td>\n      <td>NaN</td>\n      <td>43.58671</td>\n      <td>-79.634720</td>\n      <td>1.000000</td>\n      <td>NaN</td>\n      <td>...</td>\n      <td>2.000000</td>\n      <td>2.000000</td>\n      <td>2.000000</td>\n      <td>2.000000</td>\n      <td>NaN</td>\n      <td>1.000000</td>\n      <td>0.000000</td>\n      <td>0.000000</td>\n      <td>0.000000</td>\n      <td>0.010000</td>\n    </tr>\n    <tr>\n      <th>25%</th>\n      <td>1.624379e+07</td>\n      <td>2.020091e+13</td>\n      <td>2.062439e+07</td>\n      <td>1.00000</td>\n      <td>1.00000</td>\n      <td>NaN</td>\n      <td>43.64556</td>\n      <td>-79.426415</td>\n      <td>2.000000</td>\n      <td>NaN</td>\n      <td>...</td>\n      <td>10.000000</td>\n      <td>10.000000</td>\n      <td>10.000000</td>\n      <td>9.000000</td>\n      <td>NaN</td>\n      <td>1.000000</td>\n      <td>0.000000</td>\n      <td>0.000000</td>\n      <td>0.000000</td>\n      <td>0.200000</td>\n    </tr>\n    <tr>\n      <th>50%</th>\n      <td>2.756845e+07</td>\n      <td>2.020091e+13</td>\n      <td>6.718598e+07</td>\n      <td>1.00000</td>\n      <td>1.00000</td>\n      <td>NaN</td>\n      <td>43.66277</td>\n      <td>-79.397490</td>\n      <td>2.000000</td>\n      <td>NaN</td>\n      <td>...</td>\n      <td>10.000000</td>\n      <td>10.000000</td>\n      <td>10.000000</td>\n      <td>10.000000</td>\n      <td>NaN</td>\n      <td>1.000000</td>\n      <td>1.000000</td>\n      <td>0.000000</td>\n      <td>0.000000</td>\n      <td>0.620000</td>\n    </tr>\n    <tr>\n      <th>75%</th>\n      <td>3.804992e+07</td>\n      <td>2.020091e+13</td>\n      <td>1.814624e+08</td>\n      <td>4.00000</td>\n      <td>4.00000</td>\n      <td>NaN</td>\n      <td>43.69989</td>\n      <td>-79.376830</td>\n      <td>4.000000</td>\n      <td>NaN</td>\n      <td>...</td>\n      <td>10.000000</td>\n      <td>10.000000</td>\n      <td>10.000000</td>\n      <td>10.000000</td>\n      <td>NaN</td>\n      <td>3.000000</td>\n      <td>2.000000</td>\n      <td>1.000000</td>\n      <td>0.000000</td>\n      <td>1.670000</td>\n    </tr>\n    <tr>\n      <th>max</th>\n      <td>4.535132e+07</td>\n      <td>2.020091e+13</td>\n      <td>3.664602e+08</td>\n      <td>272.00000</td>\n      <td>272.00000</td>\n      <td>NaN</td>\n      <td>43.83516</td>\n      <td>-79.127810</td>\n      <td>16.000000</td>\n      <td>NaN</td>\n      <td>...</td>\n      <td>10.000000</td>\n      <td>10.000000</td>\n      <td>10.000000</td>\n      <td>10.000000</td>\n      <td>NaN</td>\n      <td>67.000000</td>\n      <td>64.000000</td>\n      <td>30.000000</td>\n      <td>46.000000</td>\n      <td>16.130000</td>\n    </tr>\n  </tbody>\n</table>\n<p>8 rows × 41 columns</p>\n</div>"
     },
     "metadata": {},
     "execution_count": 76
    }
   ],
   "source": [
    "df_list.describe()"
   ]
  },
  {
   "cell_type": "code",
   "execution_count": null,
   "metadata": {},
   "outputs": [],
   "source": []
  },
  {
   "cell_type": "code",
   "execution_count": 27,
   "metadata": {},
   "outputs": [],
   "source": [
    "#I first create an empty list to fill with amenities available.\n",
    "list_of_amenities = []\n",
    "\n",
    "#I create a for loop to append all amenities values from the dataset into the list.\n",
    "for i in range(len(df_list)):\n",
    "    list_of_amenities.append(df_list['amenities'][i])\n",
    "\n",
    "    \n",
    "#In the dataset, every listing has a list of amenities, so in order to take unique amenities from the whole dataset\n",
    "#I use the below code. I use the \"set\" function to make the amenities unique and than convert the set into a list\n",
    "#to remain consistency of data type.\n",
    "list_of_amenities = list((s.strip('\\'\\{\\}') for s in list_of_amenities))\n",
    "list_of_amenities_string = \",\".join(list_of_amenities)\n",
    "list_of_amenities = list(set(list_of_amenities_string.split(\",\")))\n",
    "\n",
    "#After execution the above lines in this cell, we have an empty string in the list of amenties.\n",
    "#We have to remove that one from the list.\n",
    "without_empty_list_of_amenities = []\n",
    "for string in list_of_amenities:\n",
    "    if (string != \"\"):\n",
    "        without_empty_list_of_amenities.append(string)\n",
    "list_of_amenities = without_empty_list_of_amenities"
   ]
  },
  {
   "cell_type": "code",
   "execution_count": 30,
   "metadata": {},
   "outputs": [],
   "source": [
    "def total_count(df, col1, col2, look_for):\n",
    "    '''\n",
    "    INPUT:\n",
    "    df - the pandas dataframe you want to search\n",
    "    col1 - the column name you want to look through\n",
    "    col2 - the column you want to count values from\n",
    "    look_for - a list of strings you want to search for in each row of df[col]\n",
    "\n",
    "    OUTPUT:\n",
    "    new_df - a dataframe of each look_for with the count of how often it shows up\n",
    "    '''\n",
    "    new_df = defaultdict(int)\n",
    "    #loop through list of amenities\n",
    "    for val in look_for:\n",
    "        #loop through rows\n",
    "        for idx in range(df.shape[0]):\n",
    "            #if the amenity is in the row add 1\n",
    "            if val in df[col1][idx]:\n",
    "                new_df[val] += int(df[col2][idx])\n",
    "    new_df = pd.DataFrame(pd.Series(new_df)).reset_index()\n",
    "    new_df.columns = [col1, col2]\n",
    "    new_df.sort_values('count', ascending=False, inplace=True)\n",
    "    return new_df"
   ]
  },
  {
   "cell_type": "code",
   "execution_count": 31,
   "metadata": {},
   "outputs": [],
   "source": [
    "#I create a dataframe named study, which has lists of amenities as one column and the count of these amenities lists\n",
    "#in our main (df_lis)\n",
    "study = df_list['amenities'].value_counts().reset_index()\n",
    "study.rename(columns={'index': 'amenities', 'amenities': 'count'}, inplace=True)"
   ]
  },
  {
   "cell_type": "code",
   "execution_count": 32,
   "metadata": {},
   "outputs": [],
   "source": [
    "#Here with the total_count function, I count the number of listings that contains each amenity in the amenities list.\n",
    "study_df = total_count(study, 'amenities', 'count', list_of_amenities)\n",
    "study_df.set_index('amenities', inplace=True)"
   ]
  },
  {
   "cell_type": "code",
   "execution_count": 33,
   "metadata": {},
   "outputs": [
    {
     "output_type": "display_data",
     "data": {
      "text/plain": "<Figure size 432x288 with 1 Axes>",
      "image/svg+xml": "<?xml version=\"1.0\" encoding=\"utf-8\" standalone=\"no\"?>\r\n<!DOCTYPE svg PUBLIC \"-//W3C//DTD SVG 1.1//EN\"\r\n  \"http://www.w3.org/Graphics/SVG/1.1/DTD/svg11.dtd\">\r\n<!-- Created with matplotlib (https://matplotlib.org/) -->\r\n<svg height=\"412.7175pt\" version=\"1.1\" viewBox=\"0 0 385.78125 412.7175\" width=\"385.78125pt\" xmlns=\"http://www.w3.org/2000/svg\" xmlns:xlink=\"http://www.w3.org/1999/xlink\">\r\n <metadata>\r\n  <rdf:RDF xmlns:cc=\"http://creativecommons.org/ns#\" xmlns:dc=\"http://purl.org/dc/elements/1.1/\" xmlns:rdf=\"http://www.w3.org/1999/02/22-rdf-syntax-ns#\">\r\n   <cc:Work>\r\n    <dc:type rdf:resource=\"http://purl.org/dc/dcmitype/StillImage\"/>\r\n    <dc:date>2020-12-03T22:43:51.110737</dc:date>\r\n    <dc:format>image/svg+xml</dc:format>\r\n    <dc:creator>\r\n     <cc:Agent>\r\n      <dc:title>Matplotlib v3.3.3, https://matplotlib.org/</dc:title>\r\n     </cc:Agent>\r\n    </dc:creator>\r\n   </cc:Work>\r\n  </rdf:RDF>\r\n </metadata>\r\n <defs>\r\n  <style type=\"text/css\">*{stroke-linecap:butt;stroke-linejoin:round;}</style>\r\n </defs>\r\n <g id=\"figure_1\">\r\n  <g id=\"patch_1\">\r\n   <path d=\"M 0 412.7175 \r\nL 385.78125 412.7175 \r\nL 385.78125 0 \r\nL 0 0 \r\nz\r\n\" style=\"fill:none;\"/>\r\n  </g>\r\n  <g id=\"axes_1\">\r\n   <g id=\"patch_2\">\r\n    <path d=\"M 43.78125 239.758125 \r\nL 378.58125 239.758125 \r\nL 378.58125 22.318125 \r\nL 43.78125 22.318125 \r\nz\r\n\" style=\"fill:#ffffff;\"/>\r\n   </g>\r\n   <g id=\"patch_3\">\r\n    <path clip-path=\"url(#p97e1a54bab)\" d=\"M 47.96625 239.758125 \r\nL 56.33625 239.758125 \r\nL 56.33625 32.672411 \r\nL 47.96625 32.672411 \r\nz\r\n\" style=\"fill:#1f77b4;\"/>\r\n   </g>\r\n   <g id=\"patch_4\">\r\n    <path clip-path=\"url(#p97e1a54bab)\" d=\"M 64.70625 239.758125 \r\nL 73.07625 239.758125 \r\nL 73.07625 34.512686 \r\nL 64.70625 34.512686 \r\nz\r\n\" style=\"fill:#1f77b4;\"/>\r\n   </g>\r\n   <g id=\"patch_5\">\r\n    <path clip-path=\"url(#p97e1a54bab)\" d=\"M 81.44625 239.758125 \r\nL 89.81625 239.758125 \r\nL 89.81625 40.230683 \r\nL 81.44625 40.230683 \r\nz\r\n\" style=\"fill:#1f77b4;\"/>\r\n   </g>\r\n   <g id=\"patch_6\">\r\n    <path clip-path=\"url(#p97e1a54bab)\" d=\"M 98.18625 239.758125 \r\nL 106.55625 239.758125 \r\nL 106.55625 41.742338 \r\nL 98.18625 41.742338 \r\nz\r\n\" style=\"fill:#1f77b4;\"/>\r\n   </g>\r\n   <g id=\"patch_7\">\r\n    <path clip-path=\"url(#p97e1a54bab)\" d=\"M 114.92625 239.758125 \r\nL 123.29625 239.758125 \r\nL 123.29625 53.156425 \r\nL 114.92625 53.156425 \r\nz\r\n\" style=\"fill:#1f77b4;\"/>\r\n   </g>\r\n   <g id=\"patch_8\">\r\n    <path clip-path=\"url(#p97e1a54bab)\" d=\"M 131.66625 239.758125 \r\nL 140.03625 239.758125 \r\nL 140.03625 57.297044 \r\nL 131.66625 57.297044 \r\nz\r\n\" style=\"fill:#1f77b4;\"/>\r\n   </g>\r\n   <g id=\"patch_9\">\r\n    <path clip-path=\"url(#p97e1a54bab)\" d=\"M 148.40625 239.758125 \r\nL 156.77625 239.758125 \r\nL 156.77625 62.653559 \r\nL 148.40625 62.653559 \r\nz\r\n\" style=\"fill:#1f77b4;\"/>\r\n   </g>\r\n   <g id=\"patch_10\">\r\n    <path clip-path=\"url(#p97e1a54bab)\" d=\"M 165.14625 239.758125 \r\nL 173.51625 239.758125 \r\nL 173.51625 69.028797 \r\nL 165.14625 69.028797 \r\nz\r\n\" style=\"fill:#1f77b4;\"/>\r\n   </g>\r\n   <g id=\"patch_11\">\r\n    <path clip-path=\"url(#p97e1a54bab)\" d=\"M 181.88625 239.758125 \r\nL 190.25625 239.758125 \r\nL 190.25625 70.255647 \r\nL 181.88625 70.255647 \r\nz\r\n\" style=\"fill:#1f77b4;\"/>\r\n   </g>\r\n   <g id=\"patch_12\">\r\n    <path clip-path=\"url(#p97e1a54bab)\" d=\"M 198.62625 239.758125 \r\nL 206.99625 239.758125 \r\nL 206.99625 73.487083 \r\nL 198.62625 73.487083 \r\nz\r\n\" style=\"fill:#1f77b4;\"/>\r\n   </g>\r\n   <g id=\"patch_13\">\r\n    <path clip-path=\"url(#p97e1a54bab)\" d=\"M 215.36625 239.758125 \r\nL 223.73625 239.758125 \r\nL 223.73625 84.276791 \r\nL 215.36625 84.276791 \r\nz\r\n\" style=\"fill:#1f77b4;\"/>\r\n   </g>\r\n   <g id=\"patch_14\">\r\n    <path clip-path=\"url(#p97e1a54bab)\" d=\"M 232.10625 239.758125 \r\nL 240.47625 239.758125 \r\nL 240.47625 85.01071 \r\nL 232.10625 85.01071 \r\nz\r\n\" style=\"fill:#1f77b4;\"/>\r\n   </g>\r\n   <g id=\"patch_15\">\r\n    <path clip-path=\"url(#p97e1a54bab)\" d=\"M 248.84625 239.758125 \r\nL 257.21625 239.758125 \r\nL 257.21625 88.767938 \r\nL 248.84625 88.767938 \r\nz\r\n\" style=\"fill:#1f77b4;\"/>\r\n   </g>\r\n   <g id=\"patch_16\">\r\n    <path clip-path=\"url(#p97e1a54bab)\" d=\"M 265.58625 239.758125 \r\nL 273.95625 239.758125 \r\nL 273.95625 94.179223 \r\nL 265.58625 94.179223 \r\nz\r\n\" style=\"fill:#1f77b4;\"/>\r\n   </g>\r\n   <g id=\"patch_17\">\r\n    <path clip-path=\"url(#p97e1a54bab)\" d=\"M 282.32625 239.758125 \r\nL 290.69625 239.758125 \r\nL 290.69625 94.956958 \r\nL 282.32625 94.956958 \r\nz\r\n\" style=\"fill:#1f77b4;\"/>\r\n   </g>\r\n   <g id=\"patch_18\">\r\n    <path clip-path=\"url(#p97e1a54bab)\" d=\"M 299.06625 239.758125 \r\nL 307.43625 239.758125 \r\nL 307.43625 101.452691 \r\nL 299.06625 101.452691 \r\nz\r\n\" style=\"fill:#1f77b4;\"/>\r\n   </g>\r\n   <g id=\"patch_19\">\r\n    <path clip-path=\"url(#p97e1a54bab)\" d=\"M 315.80625 239.758125 \r\nL 324.17625 239.758125 \r\nL 324.17625 124.258957 \r\nL 315.80625 124.258957 \r\nz\r\n\" style=\"fill:#1f77b4;\"/>\r\n   </g>\r\n   <g id=\"patch_20\">\r\n    <path clip-path=\"url(#p97e1a54bab)\" d=\"M 332.54625 239.758125 \r\nL 340.91625 239.758125 \r\nL 340.91625 128.005231 \r\nL 332.54625 128.005231 \r\nz\r\n\" style=\"fill:#1f77b4;\"/>\r\n   </g>\r\n   <g id=\"patch_21\">\r\n    <path clip-path=\"url(#p97e1a54bab)\" d=\"M 349.28625 239.758125 \r\nL 357.65625 239.758125 \r\nL 357.65625 128.454346 \r\nL 349.28625 128.454346 \r\nz\r\n\" style=\"fill:#1f77b4;\"/>\r\n   </g>\r\n   <g id=\"patch_22\">\r\n    <path clip-path=\"url(#p97e1a54bab)\" d=\"M 366.02625 239.758125 \r\nL 374.39625 239.758125 \r\nL 374.39625 128.914415 \r\nL 366.02625 128.914415 \r\nz\r\n\" style=\"fill:#1f77b4;\"/>\r\n   </g>\r\n   <g id=\"matplotlib.axis_1\">\r\n    <g id=\"xtick_1\">\r\n     <g id=\"line2d_1\">\r\n      <defs>\r\n       <path d=\"M 0 0 \r\nL 0 3.5 \r\n\" id=\"m357f386306\" style=\"stroke:#000000;stroke-width:0.8;\"/>\r\n      </defs>\r\n      <g>\r\n       <use style=\"stroke:#000000;stroke-width:0.8;\" x=\"52.15125\" xlink:href=\"#m357f386306\" y=\"239.758125\"/>\r\n      </g>\r\n     </g>\r\n     <g id=\"text_1\">\r\n      <!--  \"Wifi\" -->\r\n      <g transform=\"translate(54.910625 277.875313)rotate(-90)scale(0.1 -0.1)\">\r\n       <defs>\r\n        <path id=\"DejaVuSans-32\"/>\r\n        <path d=\"M 17.921875 72.90625 \r\nL 17.921875 45.796875 \r\nL 9.625 45.796875 \r\nL 9.625 72.90625 \r\nz\r\nM 36.375 72.90625 \r\nL 36.375 45.796875 \r\nL 28.078125 45.796875 \r\nL 28.078125 72.90625 \r\nz\r\n\" id=\"DejaVuSans-34\"/>\r\n        <path d=\"M 3.328125 72.90625 \r\nL 13.28125 72.90625 \r\nL 28.609375 11.28125 \r\nL 43.890625 72.90625 \r\nL 54.984375 72.90625 \r\nL 70.3125 11.28125 \r\nL 85.59375 72.90625 \r\nL 95.609375 72.90625 \r\nL 77.296875 0 \r\nL 64.890625 0 \r\nL 49.515625 63.28125 \r\nL 33.984375 0 \r\nL 21.578125 0 \r\nz\r\n\" id=\"DejaVuSans-87\"/>\r\n        <path d=\"M 9.421875 54.6875 \r\nL 18.40625 54.6875 \r\nL 18.40625 0 \r\nL 9.421875 0 \r\nz\r\nM 9.421875 75.984375 \r\nL 18.40625 75.984375 \r\nL 18.40625 64.59375 \r\nL 9.421875 64.59375 \r\nz\r\n\" id=\"DejaVuSans-105\"/>\r\n        <path d=\"M 37.109375 75.984375 \r\nL 37.109375 68.5 \r\nL 28.515625 68.5 \r\nQ 23.6875 68.5 21.796875 66.546875 \r\nQ 19.921875 64.59375 19.921875 59.515625 \r\nL 19.921875 54.6875 \r\nL 34.71875 54.6875 \r\nL 34.71875 47.703125 \r\nL 19.921875 47.703125 \r\nL 19.921875 0 \r\nL 10.890625 0 \r\nL 10.890625 47.703125 \r\nL 2.296875 47.703125 \r\nL 2.296875 54.6875 \r\nL 10.890625 54.6875 \r\nL 10.890625 58.5 \r\nQ 10.890625 67.625 15.140625 71.796875 \r\nQ 19.390625 75.984375 28.609375 75.984375 \r\nz\r\n\" id=\"DejaVuSans-102\"/>\r\n       </defs>\r\n       <use xlink:href=\"#DejaVuSans-32\"/>\r\n       <use x=\"31.787109\" xlink:href=\"#DejaVuSans-34\"/>\r\n       <use x=\"77.783203\" xlink:href=\"#DejaVuSans-87\"/>\r\n       <use x=\"174.410156\" xlink:href=\"#DejaVuSans-105\"/>\r\n       <use x=\"202.193359\" xlink:href=\"#DejaVuSans-102\"/>\r\n       <use x=\"237.398438\" xlink:href=\"#DejaVuSans-105\"/>\r\n       <use x=\"265.181641\" xlink:href=\"#DejaVuSans-34\"/>\r\n      </g>\r\n     </g>\r\n    </g>\r\n    <g id=\"xtick_2\">\r\n     <g id=\"line2d_2\">\r\n      <g>\r\n       <use style=\"stroke:#000000;stroke-width:0.8;\" x=\"68.89125\" xlink:href=\"#m357f386306\" y=\"239.758125\"/>\r\n      </g>\r\n     </g>\r\n     <g id=\"text_2\">\r\n      <!--  \"Heating\" -->\r\n      <g transform=\"translate(71.650625 298.322188)rotate(-90)scale(0.1 -0.1)\">\r\n       <defs>\r\n        <path d=\"M 9.8125 72.90625 \r\nL 19.671875 72.90625 \r\nL 19.671875 43.015625 \r\nL 55.515625 43.015625 \r\nL 55.515625 72.90625 \r\nL 65.375 72.90625 \r\nL 65.375 0 \r\nL 55.515625 0 \r\nL 55.515625 34.71875 \r\nL 19.671875 34.71875 \r\nL 19.671875 0 \r\nL 9.8125 0 \r\nz\r\n\" id=\"DejaVuSans-72\"/>\r\n        <path d=\"M 56.203125 29.59375 \r\nL 56.203125 25.203125 \r\nL 14.890625 25.203125 \r\nQ 15.484375 15.921875 20.484375 11.0625 \r\nQ 25.484375 6.203125 34.421875 6.203125 \r\nQ 39.59375 6.203125 44.453125 7.46875 \r\nQ 49.3125 8.734375 54.109375 11.28125 \r\nL 54.109375 2.78125 \r\nQ 49.265625 0.734375 44.1875 -0.34375 \r\nQ 39.109375 -1.421875 33.890625 -1.421875 \r\nQ 20.796875 -1.421875 13.15625 6.1875 \r\nQ 5.515625 13.8125 5.515625 26.8125 \r\nQ 5.515625 40.234375 12.765625 48.109375 \r\nQ 20.015625 56 32.328125 56 \r\nQ 43.359375 56 49.78125 48.890625 \r\nQ 56.203125 41.796875 56.203125 29.59375 \r\nz\r\nM 47.21875 32.234375 \r\nQ 47.125 39.59375 43.09375 43.984375 \r\nQ 39.0625 48.390625 32.421875 48.390625 \r\nQ 24.90625 48.390625 20.390625 44.140625 \r\nQ 15.875 39.890625 15.1875 32.171875 \r\nz\r\n\" id=\"DejaVuSans-101\"/>\r\n        <path d=\"M 34.28125 27.484375 \r\nQ 23.390625 27.484375 19.1875 25 \r\nQ 14.984375 22.515625 14.984375 16.5 \r\nQ 14.984375 11.71875 18.140625 8.90625 \r\nQ 21.296875 6.109375 26.703125 6.109375 \r\nQ 34.1875 6.109375 38.703125 11.40625 \r\nQ 43.21875 16.703125 43.21875 25.484375 \r\nL 43.21875 27.484375 \r\nz\r\nM 52.203125 31.203125 \r\nL 52.203125 0 \r\nL 43.21875 0 \r\nL 43.21875 8.296875 \r\nQ 40.140625 3.328125 35.546875 0.953125 \r\nQ 30.953125 -1.421875 24.3125 -1.421875 \r\nQ 15.921875 -1.421875 10.953125 3.296875 \r\nQ 6 8.015625 6 15.921875 \r\nQ 6 25.140625 12.171875 29.828125 \r\nQ 18.359375 34.515625 30.609375 34.515625 \r\nL 43.21875 34.515625 \r\nL 43.21875 35.40625 \r\nQ 43.21875 41.609375 39.140625 45 \r\nQ 35.0625 48.390625 27.6875 48.390625 \r\nQ 23 48.390625 18.546875 47.265625 \r\nQ 14.109375 46.140625 10.015625 43.890625 \r\nL 10.015625 52.203125 \r\nQ 14.9375 54.109375 19.578125 55.046875 \r\nQ 24.21875 56 28.609375 56 \r\nQ 40.484375 56 46.34375 49.84375 \r\nQ 52.203125 43.703125 52.203125 31.203125 \r\nz\r\n\" id=\"DejaVuSans-97\"/>\r\n        <path d=\"M 18.3125 70.21875 \r\nL 18.3125 54.6875 \r\nL 36.8125 54.6875 \r\nL 36.8125 47.703125 \r\nL 18.3125 47.703125 \r\nL 18.3125 18.015625 \r\nQ 18.3125 11.328125 20.140625 9.421875 \r\nQ 21.96875 7.515625 27.59375 7.515625 \r\nL 36.8125 7.515625 \r\nL 36.8125 0 \r\nL 27.59375 0 \r\nQ 17.1875 0 13.234375 3.875 \r\nQ 9.28125 7.765625 9.28125 18.015625 \r\nL 9.28125 47.703125 \r\nL 2.6875 47.703125 \r\nL 2.6875 54.6875 \r\nL 9.28125 54.6875 \r\nL 9.28125 70.21875 \r\nz\r\n\" id=\"DejaVuSans-116\"/>\r\n        <path d=\"M 54.890625 33.015625 \r\nL 54.890625 0 \r\nL 45.90625 0 \r\nL 45.90625 32.71875 \r\nQ 45.90625 40.484375 42.875 44.328125 \r\nQ 39.84375 48.1875 33.796875 48.1875 \r\nQ 26.515625 48.1875 22.3125 43.546875 \r\nQ 18.109375 38.921875 18.109375 30.90625 \r\nL 18.109375 0 \r\nL 9.078125 0 \r\nL 9.078125 54.6875 \r\nL 18.109375 54.6875 \r\nL 18.109375 46.1875 \r\nQ 21.34375 51.125 25.703125 53.5625 \r\nQ 30.078125 56 35.796875 56 \r\nQ 45.21875 56 50.046875 50.171875 \r\nQ 54.890625 44.34375 54.890625 33.015625 \r\nz\r\n\" id=\"DejaVuSans-110\"/>\r\n        <path d=\"M 45.40625 27.984375 \r\nQ 45.40625 37.75 41.375 43.109375 \r\nQ 37.359375 48.484375 30.078125 48.484375 \r\nQ 22.859375 48.484375 18.828125 43.109375 \r\nQ 14.796875 37.75 14.796875 27.984375 \r\nQ 14.796875 18.265625 18.828125 12.890625 \r\nQ 22.859375 7.515625 30.078125 7.515625 \r\nQ 37.359375 7.515625 41.375 12.890625 \r\nQ 45.40625 18.265625 45.40625 27.984375 \r\nz\r\nM 54.390625 6.78125 \r\nQ 54.390625 -7.171875 48.1875 -13.984375 \r\nQ 42 -20.796875 29.203125 -20.796875 \r\nQ 24.46875 -20.796875 20.265625 -20.09375 \r\nQ 16.0625 -19.390625 12.109375 -17.921875 \r\nL 12.109375 -9.1875 \r\nQ 16.0625 -11.328125 19.921875 -12.34375 \r\nQ 23.78125 -13.375 27.78125 -13.375 \r\nQ 36.625 -13.375 41.015625 -8.765625 \r\nQ 45.40625 -4.15625 45.40625 5.171875 \r\nL 45.40625 9.625 \r\nQ 42.625 4.78125 38.28125 2.390625 \r\nQ 33.9375 0 27.875 0 \r\nQ 17.828125 0 11.671875 7.65625 \r\nQ 5.515625 15.328125 5.515625 27.984375 \r\nQ 5.515625 40.671875 11.671875 48.328125 \r\nQ 17.828125 56 27.875 56 \r\nQ 33.9375 56 38.28125 53.609375 \r\nQ 42.625 51.21875 45.40625 46.390625 \r\nL 45.40625 54.6875 \r\nL 54.390625 54.6875 \r\nz\r\n\" id=\"DejaVuSans-103\"/>\r\n       </defs>\r\n       <use xlink:href=\"#DejaVuSans-32\"/>\r\n       <use x=\"31.787109\" xlink:href=\"#DejaVuSans-34\"/>\r\n       <use x=\"77.783203\" xlink:href=\"#DejaVuSans-72\"/>\r\n       <use x=\"152.978516\" xlink:href=\"#DejaVuSans-101\"/>\r\n       <use x=\"214.501953\" xlink:href=\"#DejaVuSans-97\"/>\r\n       <use x=\"275.78125\" xlink:href=\"#DejaVuSans-116\"/>\r\n       <use x=\"314.990234\" xlink:href=\"#DejaVuSans-105\"/>\r\n       <use x=\"342.773438\" xlink:href=\"#DejaVuSans-110\"/>\r\n       <use x=\"406.152344\" xlink:href=\"#DejaVuSans-103\"/>\r\n       <use x=\"469.628906\" xlink:href=\"#DejaVuSans-34\"/>\r\n      </g>\r\n     </g>\r\n    </g>\r\n    <g id=\"xtick_3\">\r\n     <g id=\"line2d_3\">\r\n      <g>\r\n       <use style=\"stroke:#000000;stroke-width:0.8;\" x=\"85.63125\" xlink:href=\"#m357f386306\" y=\"239.758125\"/>\r\n      </g>\r\n     </g>\r\n     <g id=\"text_3\">\r\n      <!--  \"Smoke alarm\" -->\r\n      <g transform=\"translate(88.390625 324.814375)rotate(-90)scale(0.1 -0.1)\">\r\n       <defs>\r\n        <path d=\"M 53.515625 70.515625 \r\nL 53.515625 60.890625 \r\nQ 47.90625 63.578125 42.921875 64.890625 \r\nQ 37.9375 66.21875 33.296875 66.21875 \r\nQ 25.25 66.21875 20.875 63.09375 \r\nQ 16.5 59.96875 16.5 54.203125 \r\nQ 16.5 49.359375 19.40625 46.890625 \r\nQ 22.3125 44.4375 30.421875 42.921875 \r\nL 36.375 41.703125 \r\nQ 47.40625 39.59375 52.65625 34.296875 \r\nQ 57.90625 29 57.90625 20.125 \r\nQ 57.90625 9.515625 50.796875 4.046875 \r\nQ 43.703125 -1.421875 29.984375 -1.421875 \r\nQ 24.8125 -1.421875 18.96875 -0.25 \r\nQ 13.140625 0.921875 6.890625 3.21875 \r\nL 6.890625 13.375 \r\nQ 12.890625 10.015625 18.65625 8.296875 \r\nQ 24.421875 6.59375 29.984375 6.59375 \r\nQ 38.421875 6.59375 43.015625 9.90625 \r\nQ 47.609375 13.234375 47.609375 19.390625 \r\nQ 47.609375 24.75 44.3125 27.78125 \r\nQ 41.015625 30.8125 33.5 32.328125 \r\nL 27.484375 33.5 \r\nQ 16.453125 35.6875 11.515625 40.375 \r\nQ 6.59375 45.0625 6.59375 53.421875 \r\nQ 6.59375 63.09375 13.40625 68.65625 \r\nQ 20.21875 74.21875 32.171875 74.21875 \r\nQ 37.3125 74.21875 42.625 73.28125 \r\nQ 47.953125 72.359375 53.515625 70.515625 \r\nz\r\n\" id=\"DejaVuSans-83\"/>\r\n        <path d=\"M 52 44.1875 \r\nQ 55.375 50.25 60.0625 53.125 \r\nQ 64.75 56 71.09375 56 \r\nQ 79.640625 56 84.28125 50.015625 \r\nQ 88.921875 44.046875 88.921875 33.015625 \r\nL 88.921875 0 \r\nL 79.890625 0 \r\nL 79.890625 32.71875 \r\nQ 79.890625 40.578125 77.09375 44.375 \r\nQ 74.3125 48.1875 68.609375 48.1875 \r\nQ 61.625 48.1875 57.5625 43.546875 \r\nQ 53.515625 38.921875 53.515625 30.90625 \r\nL 53.515625 0 \r\nL 44.484375 0 \r\nL 44.484375 32.71875 \r\nQ 44.484375 40.625 41.703125 44.40625 \r\nQ 38.921875 48.1875 33.109375 48.1875 \r\nQ 26.21875 48.1875 22.15625 43.53125 \r\nQ 18.109375 38.875 18.109375 30.90625 \r\nL 18.109375 0 \r\nL 9.078125 0 \r\nL 9.078125 54.6875 \r\nL 18.109375 54.6875 \r\nL 18.109375 46.1875 \r\nQ 21.1875 51.21875 25.484375 53.609375 \r\nQ 29.78125 56 35.6875 56 \r\nQ 41.65625 56 45.828125 52.96875 \r\nQ 50 49.953125 52 44.1875 \r\nz\r\n\" id=\"DejaVuSans-109\"/>\r\n        <path d=\"M 30.609375 48.390625 \r\nQ 23.390625 48.390625 19.1875 42.75 \r\nQ 14.984375 37.109375 14.984375 27.296875 \r\nQ 14.984375 17.484375 19.15625 11.84375 \r\nQ 23.34375 6.203125 30.609375 6.203125 \r\nQ 37.796875 6.203125 41.984375 11.859375 \r\nQ 46.1875 17.53125 46.1875 27.296875 \r\nQ 46.1875 37.015625 41.984375 42.703125 \r\nQ 37.796875 48.390625 30.609375 48.390625 \r\nz\r\nM 30.609375 56 \r\nQ 42.328125 56 49.015625 48.375 \r\nQ 55.71875 40.765625 55.71875 27.296875 \r\nQ 55.71875 13.875 49.015625 6.21875 \r\nQ 42.328125 -1.421875 30.609375 -1.421875 \r\nQ 18.84375 -1.421875 12.171875 6.21875 \r\nQ 5.515625 13.875 5.515625 27.296875 \r\nQ 5.515625 40.765625 12.171875 48.375 \r\nQ 18.84375 56 30.609375 56 \r\nz\r\n\" id=\"DejaVuSans-111\"/>\r\n        <path d=\"M 9.078125 75.984375 \r\nL 18.109375 75.984375 \r\nL 18.109375 31.109375 \r\nL 44.921875 54.6875 \r\nL 56.390625 54.6875 \r\nL 27.390625 29.109375 \r\nL 57.625 0 \r\nL 45.90625 0 \r\nL 18.109375 26.703125 \r\nL 18.109375 0 \r\nL 9.078125 0 \r\nz\r\n\" id=\"DejaVuSans-107\"/>\r\n        <path d=\"M 9.421875 75.984375 \r\nL 18.40625 75.984375 \r\nL 18.40625 0 \r\nL 9.421875 0 \r\nz\r\n\" id=\"DejaVuSans-108\"/>\r\n        <path d=\"M 41.109375 46.296875 \r\nQ 39.59375 47.171875 37.8125 47.578125 \r\nQ 36.03125 48 33.890625 48 \r\nQ 26.265625 48 22.1875 43.046875 \r\nQ 18.109375 38.09375 18.109375 28.8125 \r\nL 18.109375 0 \r\nL 9.078125 0 \r\nL 9.078125 54.6875 \r\nL 18.109375 54.6875 \r\nL 18.109375 46.1875 \r\nQ 20.953125 51.171875 25.484375 53.578125 \r\nQ 30.03125 56 36.53125 56 \r\nQ 37.453125 56 38.578125 55.875 \r\nQ 39.703125 55.765625 41.0625 55.515625 \r\nz\r\n\" id=\"DejaVuSans-114\"/>\r\n       </defs>\r\n       <use xlink:href=\"#DejaVuSans-32\"/>\r\n       <use x=\"31.787109\" xlink:href=\"#DejaVuSans-34\"/>\r\n       <use x=\"77.783203\" xlink:href=\"#DejaVuSans-83\"/>\r\n       <use x=\"141.259766\" xlink:href=\"#DejaVuSans-109\"/>\r\n       <use x=\"238.671875\" xlink:href=\"#DejaVuSans-111\"/>\r\n       <use x=\"299.853516\" xlink:href=\"#DejaVuSans-107\"/>\r\n       <use x=\"354.138672\" xlink:href=\"#DejaVuSans-101\"/>\r\n       <use x=\"415.662109\" xlink:href=\"#DejaVuSans-32\"/>\r\n       <use x=\"447.449219\" xlink:href=\"#DejaVuSans-97\"/>\r\n       <use x=\"508.728516\" xlink:href=\"#DejaVuSans-108\"/>\r\n       <use x=\"536.511719\" xlink:href=\"#DejaVuSans-97\"/>\r\n       <use x=\"597.791016\" xlink:href=\"#DejaVuSans-114\"/>\r\n       <use x=\"637.154297\" xlink:href=\"#DejaVuSans-109\"/>\r\n       <use x=\"734.566406\" xlink:href=\"#DejaVuSans-34\"/>\r\n      </g>\r\n     </g>\r\n    </g>\r\n    <g id=\"xtick_4\">\r\n     <g id=\"line2d_4\">\r\n      <g>\r\n       <use style=\"stroke:#000000;stroke-width:0.8;\" x=\"102.37125\" xlink:href=\"#m357f386306\" y=\"239.758125\"/>\r\n      </g>\r\n     </g>\r\n     <g id=\"text_4\">\r\n      <!--  \"Essentials\" -->\r\n      <g transform=\"translate(105.130625 309.178437)rotate(-90)scale(0.1 -0.1)\">\r\n       <defs>\r\n        <path d=\"M 9.8125 72.90625 \r\nL 55.90625 72.90625 \r\nL 55.90625 64.59375 \r\nL 19.671875 64.59375 \r\nL 19.671875 43.015625 \r\nL 54.390625 43.015625 \r\nL 54.390625 34.71875 \r\nL 19.671875 34.71875 \r\nL 19.671875 8.296875 \r\nL 56.78125 8.296875 \r\nL 56.78125 0 \r\nL 9.8125 0 \r\nz\r\n\" id=\"DejaVuSans-69\"/>\r\n        <path d=\"M 44.28125 53.078125 \r\nL 44.28125 44.578125 \r\nQ 40.484375 46.53125 36.375 47.5 \r\nQ 32.28125 48.484375 27.875 48.484375 \r\nQ 21.1875 48.484375 17.84375 46.4375 \r\nQ 14.5 44.390625 14.5 40.28125 \r\nQ 14.5 37.15625 16.890625 35.375 \r\nQ 19.28125 33.59375 26.515625 31.984375 \r\nL 29.59375 31.296875 \r\nQ 39.15625 29.25 43.1875 25.515625 \r\nQ 47.21875 21.78125 47.21875 15.09375 \r\nQ 47.21875 7.46875 41.1875 3.015625 \r\nQ 35.15625 -1.421875 24.609375 -1.421875 \r\nQ 20.21875 -1.421875 15.453125 -0.5625 \r\nQ 10.6875 0.296875 5.421875 2 \r\nL 5.421875 11.28125 \r\nQ 10.40625 8.6875 15.234375 7.390625 \r\nQ 20.0625 6.109375 24.8125 6.109375 \r\nQ 31.15625 6.109375 34.5625 8.28125 \r\nQ 37.984375 10.453125 37.984375 14.40625 \r\nQ 37.984375 18.0625 35.515625 20.015625 \r\nQ 33.0625 21.96875 24.703125 23.78125 \r\nL 21.578125 24.515625 \r\nQ 13.234375 26.265625 9.515625 29.90625 \r\nQ 5.8125 33.546875 5.8125 39.890625 \r\nQ 5.8125 47.609375 11.28125 51.796875 \r\nQ 16.75 56 26.8125 56 \r\nQ 31.78125 56 36.171875 55.265625 \r\nQ 40.578125 54.546875 44.28125 53.078125 \r\nz\r\n\" id=\"DejaVuSans-115\"/>\r\n       </defs>\r\n       <use xlink:href=\"#DejaVuSans-32\"/>\r\n       <use x=\"31.787109\" xlink:href=\"#DejaVuSans-34\"/>\r\n       <use x=\"77.783203\" xlink:href=\"#DejaVuSans-69\"/>\r\n       <use x=\"140.966797\" xlink:href=\"#DejaVuSans-115\"/>\r\n       <use x=\"193.066406\" xlink:href=\"#DejaVuSans-115\"/>\r\n       <use x=\"245.166016\" xlink:href=\"#DejaVuSans-101\"/>\r\n       <use x=\"306.689453\" xlink:href=\"#DejaVuSans-110\"/>\r\n       <use x=\"370.068359\" xlink:href=\"#DejaVuSans-116\"/>\r\n       <use x=\"409.277344\" xlink:href=\"#DejaVuSans-105\"/>\r\n       <use x=\"437.060547\" xlink:href=\"#DejaVuSans-97\"/>\r\n       <use x=\"498.339844\" xlink:href=\"#DejaVuSans-108\"/>\r\n       <use x=\"526.123047\" xlink:href=\"#DejaVuSans-115\"/>\r\n       <use x=\"578.222656\" xlink:href=\"#DejaVuSans-34\"/>\r\n      </g>\r\n     </g>\r\n    </g>\r\n    <g id=\"xtick_5\">\r\n     <g id=\"line2d_5\">\r\n      <g>\r\n       <use style=\"stroke:#000000;stroke-width:0.8;\" x=\"119.11125\" xlink:href=\"#m357f386306\" y=\"239.758125\"/>\r\n      </g>\r\n     </g>\r\n     <g id=\"text_5\">\r\n      <!--  \"Kitchen\" -->\r\n      <g transform=\"translate(121.870625 296.719063)rotate(-90)scale(0.1 -0.1)\">\r\n       <defs>\r\n        <path d=\"M 9.8125 72.90625 \r\nL 19.671875 72.90625 \r\nL 19.671875 42.09375 \r\nL 52.390625 72.90625 \r\nL 65.09375 72.90625 \r\nL 28.90625 38.921875 \r\nL 67.671875 0 \r\nL 54.6875 0 \r\nL 19.671875 35.109375 \r\nL 19.671875 0 \r\nL 9.8125 0 \r\nz\r\n\" id=\"DejaVuSans-75\"/>\r\n        <path d=\"M 48.78125 52.59375 \r\nL 48.78125 44.1875 \r\nQ 44.96875 46.296875 41.140625 47.34375 \r\nQ 37.3125 48.390625 33.40625 48.390625 \r\nQ 24.65625 48.390625 19.8125 42.84375 \r\nQ 14.984375 37.3125 14.984375 27.296875 \r\nQ 14.984375 17.28125 19.8125 11.734375 \r\nQ 24.65625 6.203125 33.40625 6.203125 \r\nQ 37.3125 6.203125 41.140625 7.25 \r\nQ 44.96875 8.296875 48.78125 10.40625 \r\nL 48.78125 2.09375 \r\nQ 45.015625 0.34375 40.984375 -0.53125 \r\nQ 36.96875 -1.421875 32.421875 -1.421875 \r\nQ 20.0625 -1.421875 12.78125 6.34375 \r\nQ 5.515625 14.109375 5.515625 27.296875 \r\nQ 5.515625 40.671875 12.859375 48.328125 \r\nQ 20.21875 56 33.015625 56 \r\nQ 37.15625 56 41.109375 55.140625 \r\nQ 45.0625 54.296875 48.78125 52.59375 \r\nz\r\n\" id=\"DejaVuSans-99\"/>\r\n        <path d=\"M 54.890625 33.015625 \r\nL 54.890625 0 \r\nL 45.90625 0 \r\nL 45.90625 32.71875 \r\nQ 45.90625 40.484375 42.875 44.328125 \r\nQ 39.84375 48.1875 33.796875 48.1875 \r\nQ 26.515625 48.1875 22.3125 43.546875 \r\nQ 18.109375 38.921875 18.109375 30.90625 \r\nL 18.109375 0 \r\nL 9.078125 0 \r\nL 9.078125 75.984375 \r\nL 18.109375 75.984375 \r\nL 18.109375 46.1875 \r\nQ 21.34375 51.125 25.703125 53.5625 \r\nQ 30.078125 56 35.796875 56 \r\nQ 45.21875 56 50.046875 50.171875 \r\nQ 54.890625 44.34375 54.890625 33.015625 \r\nz\r\n\" id=\"DejaVuSans-104\"/>\r\n       </defs>\r\n       <use xlink:href=\"#DejaVuSans-32\"/>\r\n       <use x=\"31.787109\" xlink:href=\"#DejaVuSans-34\"/>\r\n       <use x=\"77.783203\" xlink:href=\"#DejaVuSans-75\"/>\r\n       <use x=\"143.359375\" xlink:href=\"#DejaVuSans-105\"/>\r\n       <use x=\"171.142578\" xlink:href=\"#DejaVuSans-116\"/>\r\n       <use x=\"210.351562\" xlink:href=\"#DejaVuSans-99\"/>\r\n       <use x=\"265.332031\" xlink:href=\"#DejaVuSans-104\"/>\r\n       <use x=\"328.710938\" xlink:href=\"#DejaVuSans-101\"/>\r\n       <use x=\"390.234375\" xlink:href=\"#DejaVuSans-110\"/>\r\n       <use x=\"453.613281\" xlink:href=\"#DejaVuSans-34\"/>\r\n      </g>\r\n     </g>\r\n    </g>\r\n    <g id=\"xtick_6\">\r\n     <g id=\"line2d_6\">\r\n      <g>\r\n       <use style=\"stroke:#000000;stroke-width:0.8;\" x=\"135.85125\" xlink:href=\"#m357f386306\" y=\"239.758125\"/>\r\n      </g>\r\n     </g>\r\n     <g id=\"text_6\">\r\n      <!--  \"Air conditioning\" -->\r\n      <g transform=\"translate(138.610625 337.744063)rotate(-90)scale(0.1 -0.1)\">\r\n       <defs>\r\n        <path d=\"M 34.1875 63.1875 \r\nL 20.796875 26.90625 \r\nL 47.609375 26.90625 \r\nz\r\nM 28.609375 72.90625 \r\nL 39.796875 72.90625 \r\nL 67.578125 0 \r\nL 57.328125 0 \r\nL 50.6875 18.703125 \r\nL 17.828125 18.703125 \r\nL 11.1875 0 \r\nL 0.78125 0 \r\nz\r\n\" id=\"DejaVuSans-65\"/>\r\n        <path d=\"M 45.40625 46.390625 \r\nL 45.40625 75.984375 \r\nL 54.390625 75.984375 \r\nL 54.390625 0 \r\nL 45.40625 0 \r\nL 45.40625 8.203125 \r\nQ 42.578125 3.328125 38.25 0.953125 \r\nQ 33.9375 -1.421875 27.875 -1.421875 \r\nQ 17.96875 -1.421875 11.734375 6.484375 \r\nQ 5.515625 14.40625 5.515625 27.296875 \r\nQ 5.515625 40.1875 11.734375 48.09375 \r\nQ 17.96875 56 27.875 56 \r\nQ 33.9375 56 38.25 53.625 \r\nQ 42.578125 51.265625 45.40625 46.390625 \r\nz\r\nM 14.796875 27.296875 \r\nQ 14.796875 17.390625 18.875 11.75 \r\nQ 22.953125 6.109375 30.078125 6.109375 \r\nQ 37.203125 6.109375 41.296875 11.75 \r\nQ 45.40625 17.390625 45.40625 27.296875 \r\nQ 45.40625 37.203125 41.296875 42.84375 \r\nQ 37.203125 48.484375 30.078125 48.484375 \r\nQ 22.953125 48.484375 18.875 42.84375 \r\nQ 14.796875 37.203125 14.796875 27.296875 \r\nz\r\n\" id=\"DejaVuSans-100\"/>\r\n       </defs>\r\n       <use xlink:href=\"#DejaVuSans-32\"/>\r\n       <use x=\"31.787109\" xlink:href=\"#DejaVuSans-34\"/>\r\n       <use x=\"77.783203\" xlink:href=\"#DejaVuSans-65\"/>\r\n       <use x=\"146.191406\" xlink:href=\"#DejaVuSans-105\"/>\r\n       <use x=\"173.974609\" xlink:href=\"#DejaVuSans-114\"/>\r\n       <use x=\"215.087891\" xlink:href=\"#DejaVuSans-32\"/>\r\n       <use x=\"246.875\" xlink:href=\"#DejaVuSans-99\"/>\r\n       <use x=\"301.855469\" xlink:href=\"#DejaVuSans-111\"/>\r\n       <use x=\"363.037109\" xlink:href=\"#DejaVuSans-110\"/>\r\n       <use x=\"426.416016\" xlink:href=\"#DejaVuSans-100\"/>\r\n       <use x=\"489.892578\" xlink:href=\"#DejaVuSans-105\"/>\r\n       <use x=\"517.675781\" xlink:href=\"#DejaVuSans-116\"/>\r\n       <use x=\"556.884766\" xlink:href=\"#DejaVuSans-105\"/>\r\n       <use x=\"584.667969\" xlink:href=\"#DejaVuSans-111\"/>\r\n       <use x=\"645.849609\" xlink:href=\"#DejaVuSans-110\"/>\r\n       <use x=\"709.228516\" xlink:href=\"#DejaVuSans-105\"/>\r\n       <use x=\"737.011719\" xlink:href=\"#DejaVuSans-110\"/>\r\n       <use x=\"800.390625\" xlink:href=\"#DejaVuSans-103\"/>\r\n       <use x=\"863.867188\" xlink:href=\"#DejaVuSans-34\"/>\r\n      </g>\r\n     </g>\r\n    </g>\r\n    <g id=\"xtick_7\">\r\n     <g id=\"line2d_7\">\r\n      <g>\r\n       <use style=\"stroke:#000000;stroke-width:0.8;\" x=\"152.59125\" xlink:href=\"#m357f386306\" y=\"239.758125\"/>\r\n      </g>\r\n     </g>\r\n     <g id=\"text_7\">\r\n      <!--  \"Hangers\" -->\r\n      <g transform=\"translate(155.350625 300.944062)rotate(-90)scale(0.1 -0.1)\">\r\n       <use xlink:href=\"#DejaVuSans-32\"/>\r\n       <use x=\"31.787109\" xlink:href=\"#DejaVuSans-34\"/>\r\n       <use x=\"77.783203\" xlink:href=\"#DejaVuSans-72\"/>\r\n       <use x=\"152.978516\" xlink:href=\"#DejaVuSans-97\"/>\r\n       <use x=\"214.257812\" xlink:href=\"#DejaVuSans-110\"/>\r\n       <use x=\"277.636719\" xlink:href=\"#DejaVuSans-103\"/>\r\n       <use x=\"341.113281\" xlink:href=\"#DejaVuSans-101\"/>\r\n       <use x=\"402.636719\" xlink:href=\"#DejaVuSans-114\"/>\r\n       <use x=\"443.75\" xlink:href=\"#DejaVuSans-115\"/>\r\n       <use x=\"495.849609\" xlink:href=\"#DejaVuSans-34\"/>\r\n      </g>\r\n     </g>\r\n    </g>\r\n    <g id=\"xtick_8\">\r\n     <g id=\"line2d_8\">\r\n      <g>\r\n       <use style=\"stroke:#000000;stroke-width:0.8;\" x=\"169.33125\" xlink:href=\"#m357f386306\" y=\"239.758125\"/>\r\n      </g>\r\n     </g>\r\n     <g id=\"text_8\">\r\n      <!--  \"Washer\" -->\r\n      <g transform=\"translate(172.090625 296.325312)rotate(-90)scale(0.1 -0.1)\">\r\n       <use xlink:href=\"#DejaVuSans-32\"/>\r\n       <use x=\"31.787109\" xlink:href=\"#DejaVuSans-34\"/>\r\n       <use x=\"77.783203\" xlink:href=\"#DejaVuSans-87\"/>\r\n       <use x=\"170.285156\" xlink:href=\"#DejaVuSans-97\"/>\r\n       <use x=\"231.564453\" xlink:href=\"#DejaVuSans-115\"/>\r\n       <use x=\"283.664062\" xlink:href=\"#DejaVuSans-104\"/>\r\n       <use x=\"347.042969\" xlink:href=\"#DejaVuSans-101\"/>\r\n       <use x=\"408.566406\" xlink:href=\"#DejaVuSans-114\"/>\r\n       <use x=\"449.679688\" xlink:href=\"#DejaVuSans-34\"/>\r\n      </g>\r\n     </g>\r\n    </g>\r\n    <g id=\"xtick_9\">\r\n     <g id=\"line2d_9\">\r\n      <g>\r\n       <use style=\"stroke:#000000;stroke-width:0.8;\" x=\"186.07125\" xlink:href=\"#m357f386306\" y=\"239.758125\"/>\r\n      </g>\r\n     </g>\r\n     <g id=\"text_9\">\r\n      <!-- [\"Carbon monoxide alarm\" -->\r\n      <g transform=\"translate(188.830625 380.155)rotate(-90)scale(0.1 -0.1)\">\r\n       <defs>\r\n        <path d=\"M 8.59375 75.984375 \r\nL 29.296875 75.984375 \r\nL 29.296875 69 \r\nL 17.578125 69 \r\nL 17.578125 -6.203125 \r\nL 29.296875 -6.203125 \r\nL 29.296875 -13.1875 \r\nL 8.59375 -13.1875 \r\nz\r\n\" id=\"DejaVuSans-91\"/>\r\n        <path d=\"M 64.40625 67.28125 \r\nL 64.40625 56.890625 \r\nQ 59.421875 61.53125 53.78125 63.8125 \r\nQ 48.140625 66.109375 41.796875 66.109375 \r\nQ 29.296875 66.109375 22.65625 58.46875 \r\nQ 16.015625 50.828125 16.015625 36.375 \r\nQ 16.015625 21.96875 22.65625 14.328125 \r\nQ 29.296875 6.6875 41.796875 6.6875 \r\nQ 48.140625 6.6875 53.78125 8.984375 \r\nQ 59.421875 11.28125 64.40625 15.921875 \r\nL 64.40625 5.609375 \r\nQ 59.234375 2.09375 53.4375 0.328125 \r\nQ 47.65625 -1.421875 41.21875 -1.421875 \r\nQ 24.65625 -1.421875 15.125 8.703125 \r\nQ 5.609375 18.84375 5.609375 36.375 \r\nQ 5.609375 53.953125 15.125 64.078125 \r\nQ 24.65625 74.21875 41.21875 74.21875 \r\nQ 47.75 74.21875 53.53125 72.484375 \r\nQ 59.328125 70.75 64.40625 67.28125 \r\nz\r\n\" id=\"DejaVuSans-67\"/>\r\n        <path d=\"M 48.6875 27.296875 \r\nQ 48.6875 37.203125 44.609375 42.84375 \r\nQ 40.53125 48.484375 33.40625 48.484375 \r\nQ 26.265625 48.484375 22.1875 42.84375 \r\nQ 18.109375 37.203125 18.109375 27.296875 \r\nQ 18.109375 17.390625 22.1875 11.75 \r\nQ 26.265625 6.109375 33.40625 6.109375 \r\nQ 40.53125 6.109375 44.609375 11.75 \r\nQ 48.6875 17.390625 48.6875 27.296875 \r\nz\r\nM 18.109375 46.390625 \r\nQ 20.953125 51.265625 25.265625 53.625 \r\nQ 29.59375 56 35.59375 56 \r\nQ 45.5625 56 51.78125 48.09375 \r\nQ 58.015625 40.1875 58.015625 27.296875 \r\nQ 58.015625 14.40625 51.78125 6.484375 \r\nQ 45.5625 -1.421875 35.59375 -1.421875 \r\nQ 29.59375 -1.421875 25.265625 0.953125 \r\nQ 20.953125 3.328125 18.109375 8.203125 \r\nL 18.109375 0 \r\nL 9.078125 0 \r\nL 9.078125 75.984375 \r\nL 18.109375 75.984375 \r\nz\r\n\" id=\"DejaVuSans-98\"/>\r\n        <path d=\"M 54.890625 54.6875 \r\nL 35.109375 28.078125 \r\nL 55.90625 0 \r\nL 45.3125 0 \r\nL 29.390625 21.484375 \r\nL 13.484375 0 \r\nL 2.875 0 \r\nL 24.125 28.609375 \r\nL 4.6875 54.6875 \r\nL 15.28125 54.6875 \r\nL 29.78125 35.203125 \r\nL 44.28125 54.6875 \r\nz\r\n\" id=\"DejaVuSans-120\"/>\r\n       </defs>\r\n       <use xlink:href=\"#DejaVuSans-91\"/>\r\n       <use x=\"39.013672\" xlink:href=\"#DejaVuSans-34\"/>\r\n       <use x=\"85.009766\" xlink:href=\"#DejaVuSans-67\"/>\r\n       <use x=\"154.833984\" xlink:href=\"#DejaVuSans-97\"/>\r\n       <use x=\"216.113281\" xlink:href=\"#DejaVuSans-114\"/>\r\n       <use x=\"257.226562\" xlink:href=\"#DejaVuSans-98\"/>\r\n       <use x=\"320.703125\" xlink:href=\"#DejaVuSans-111\"/>\r\n       <use x=\"381.884766\" xlink:href=\"#DejaVuSans-110\"/>\r\n       <use x=\"445.263672\" xlink:href=\"#DejaVuSans-32\"/>\r\n       <use x=\"477.050781\" xlink:href=\"#DejaVuSans-109\"/>\r\n       <use x=\"574.462891\" xlink:href=\"#DejaVuSans-111\"/>\r\n       <use x=\"635.644531\" xlink:href=\"#DejaVuSans-110\"/>\r\n       <use x=\"699.023438\" xlink:href=\"#DejaVuSans-111\"/>\r\n       <use x=\"757.080078\" xlink:href=\"#DejaVuSans-120\"/>\r\n       <use x=\"816.259766\" xlink:href=\"#DejaVuSans-105\"/>\r\n       <use x=\"844.042969\" xlink:href=\"#DejaVuSans-100\"/>\r\n       <use x=\"907.519531\" xlink:href=\"#DejaVuSans-101\"/>\r\n       <use x=\"969.042969\" xlink:href=\"#DejaVuSans-32\"/>\r\n       <use x=\"1000.830078\" xlink:href=\"#DejaVuSans-97\"/>\r\n       <use x=\"1062.109375\" xlink:href=\"#DejaVuSans-108\"/>\r\n       <use x=\"1089.892578\" xlink:href=\"#DejaVuSans-97\"/>\r\n       <use x=\"1151.171875\" xlink:href=\"#DejaVuSans-114\"/>\r\n       <use x=\"1190.535156\" xlink:href=\"#DejaVuSans-109\"/>\r\n       <use x=\"1287.947266\" xlink:href=\"#DejaVuSans-34\"/>\r\n      </g>\r\n     </g>\r\n    </g>\r\n    <g id=\"xtick_10\">\r\n     <g id=\"line2d_10\">\r\n      <g>\r\n       <use style=\"stroke:#000000;stroke-width:0.8;\" x=\"202.81125\" xlink:href=\"#m357f386306\" y=\"239.758125\"/>\r\n      </g>\r\n     </g>\r\n     <g id=\"text_10\">\r\n      <!--  \"Dryer\" -->\r\n      <g transform=\"translate(205.570625 287.13)rotate(-90)scale(0.1 -0.1)\">\r\n       <defs>\r\n        <path d=\"M 19.671875 64.796875 \r\nL 19.671875 8.109375 \r\nL 31.59375 8.109375 \r\nQ 46.6875 8.109375 53.6875 14.9375 \r\nQ 60.6875 21.78125 60.6875 36.53125 \r\nQ 60.6875 51.171875 53.6875 57.984375 \r\nQ 46.6875 64.796875 31.59375 64.796875 \r\nz\r\nM 9.8125 72.90625 \r\nL 30.078125 72.90625 \r\nQ 51.265625 72.90625 61.171875 64.09375 \r\nQ 71.09375 55.28125 71.09375 36.53125 \r\nQ 71.09375 17.671875 61.125 8.828125 \r\nQ 51.171875 0 30.078125 0 \r\nL 9.8125 0 \r\nz\r\n\" id=\"DejaVuSans-68\"/>\r\n        <path d=\"M 32.171875 -5.078125 \r\nQ 28.375 -14.84375 24.75 -17.8125 \r\nQ 21.140625 -20.796875 15.09375 -20.796875 \r\nL 7.90625 -20.796875 \r\nL 7.90625 -13.28125 \r\nL 13.1875 -13.28125 \r\nQ 16.890625 -13.28125 18.9375 -11.515625 \r\nQ 21 -9.765625 23.484375 -3.21875 \r\nL 25.09375 0.875 \r\nL 2.984375 54.6875 \r\nL 12.5 54.6875 \r\nL 29.59375 11.921875 \r\nL 46.6875 54.6875 \r\nL 56.203125 54.6875 \r\nz\r\n\" id=\"DejaVuSans-121\"/>\r\n       </defs>\r\n       <use xlink:href=\"#DejaVuSans-32\"/>\r\n       <use x=\"31.787109\" xlink:href=\"#DejaVuSans-34\"/>\r\n       <use x=\"77.783203\" xlink:href=\"#DejaVuSans-68\"/>\r\n       <use x=\"154.785156\" xlink:href=\"#DejaVuSans-114\"/>\r\n       <use x=\"195.898438\" xlink:href=\"#DejaVuSans-121\"/>\r\n       <use x=\"255.078125\" xlink:href=\"#DejaVuSans-101\"/>\r\n       <use x=\"316.601562\" xlink:href=\"#DejaVuSans-114\"/>\r\n       <use x=\"357.714844\" xlink:href=\"#DejaVuSans-34\"/>\r\n      </g>\r\n     </g>\r\n    </g>\r\n    <g id=\"xtick_11\">\r\n     <g id=\"line2d_11\">\r\n      <g>\r\n       <use style=\"stroke:#000000;stroke-width:0.8;\" x=\"219.55125\" xlink:href=\"#m357f386306\" y=\"239.758125\"/>\r\n      </g>\r\n     </g>\r\n     <g id=\"text_11\">\r\n      <!--  \"Hair dryer\" -->\r\n      <g transform=\"translate(222.310625 309.494063)rotate(-90)scale(0.1 -0.1)\">\r\n       <use xlink:href=\"#DejaVuSans-32\"/>\r\n       <use x=\"31.787109\" xlink:href=\"#DejaVuSans-34\"/>\r\n       <use x=\"77.783203\" xlink:href=\"#DejaVuSans-72\"/>\r\n       <use x=\"152.978516\" xlink:href=\"#DejaVuSans-97\"/>\r\n       <use x=\"214.257812\" xlink:href=\"#DejaVuSans-105\"/>\r\n       <use x=\"242.041016\" xlink:href=\"#DejaVuSans-114\"/>\r\n       <use x=\"283.154297\" xlink:href=\"#DejaVuSans-32\"/>\r\n       <use x=\"314.941406\" xlink:href=\"#DejaVuSans-100\"/>\r\n       <use x=\"378.417969\" xlink:href=\"#DejaVuSans-114\"/>\r\n       <use x=\"419.53125\" xlink:href=\"#DejaVuSans-121\"/>\r\n       <use x=\"478.710938\" xlink:href=\"#DejaVuSans-101\"/>\r\n       <use x=\"540.234375\" xlink:href=\"#DejaVuSans-114\"/>\r\n       <use x=\"581.347656\" xlink:href=\"#DejaVuSans-34\"/>\r\n      </g>\r\n     </g>\r\n    </g>\r\n    <g id=\"xtick_12\">\r\n     <g id=\"line2d_12\">\r\n      <g>\r\n       <use style=\"stroke:#000000;stroke-width:0.8;\" x=\"236.29125\" xlink:href=\"#m357f386306\" y=\"239.758125\"/>\r\n      </g>\r\n     </g>\r\n     <g id=\"text_12\">\r\n      <!--  \"Laptop-friendly workspace\" -->\r\n      <g transform=\"translate(239.050625 391.839375)rotate(-90)scale(0.1 -0.1)\">\r\n       <defs>\r\n        <path d=\"M 9.8125 72.90625 \r\nL 19.671875 72.90625 \r\nL 19.671875 8.296875 \r\nL 55.171875 8.296875 \r\nL 55.171875 0 \r\nL 9.8125 0 \r\nz\r\n\" id=\"DejaVuSans-76\"/>\r\n        <path d=\"M 18.109375 8.203125 \r\nL 18.109375 -20.796875 \r\nL 9.078125 -20.796875 \r\nL 9.078125 54.6875 \r\nL 18.109375 54.6875 \r\nL 18.109375 46.390625 \r\nQ 20.953125 51.265625 25.265625 53.625 \r\nQ 29.59375 56 35.59375 56 \r\nQ 45.5625 56 51.78125 48.09375 \r\nQ 58.015625 40.1875 58.015625 27.296875 \r\nQ 58.015625 14.40625 51.78125 6.484375 \r\nQ 45.5625 -1.421875 35.59375 -1.421875 \r\nQ 29.59375 -1.421875 25.265625 0.953125 \r\nQ 20.953125 3.328125 18.109375 8.203125 \r\nz\r\nM 48.6875 27.296875 \r\nQ 48.6875 37.203125 44.609375 42.84375 \r\nQ 40.53125 48.484375 33.40625 48.484375 \r\nQ 26.265625 48.484375 22.1875 42.84375 \r\nQ 18.109375 37.203125 18.109375 27.296875 \r\nQ 18.109375 17.390625 22.1875 11.75 \r\nQ 26.265625 6.109375 33.40625 6.109375 \r\nQ 40.53125 6.109375 44.609375 11.75 \r\nQ 48.6875 17.390625 48.6875 27.296875 \r\nz\r\n\" id=\"DejaVuSans-112\"/>\r\n        <path d=\"M 4.890625 31.390625 \r\nL 31.203125 31.390625 \r\nL 31.203125 23.390625 \r\nL 4.890625 23.390625 \r\nz\r\n\" id=\"DejaVuSans-45\"/>\r\n        <path d=\"M 4.203125 54.6875 \r\nL 13.1875 54.6875 \r\nL 24.421875 12.015625 \r\nL 35.59375 54.6875 \r\nL 46.1875 54.6875 \r\nL 57.421875 12.015625 \r\nL 68.609375 54.6875 \r\nL 77.59375 54.6875 \r\nL 63.28125 0 \r\nL 52.6875 0 \r\nL 40.921875 44.828125 \r\nL 29.109375 0 \r\nL 18.5 0 \r\nz\r\n\" id=\"DejaVuSans-119\"/>\r\n       </defs>\r\n       <use xlink:href=\"#DejaVuSans-32\"/>\r\n       <use x=\"31.787109\" xlink:href=\"#DejaVuSans-34\"/>\r\n       <use x=\"77.783203\" xlink:href=\"#DejaVuSans-76\"/>\r\n       <use x=\"133.496094\" xlink:href=\"#DejaVuSans-97\"/>\r\n       <use x=\"194.775391\" xlink:href=\"#DejaVuSans-112\"/>\r\n       <use x=\"258.251953\" xlink:href=\"#DejaVuSans-116\"/>\r\n       <use x=\"297.460938\" xlink:href=\"#DejaVuSans-111\"/>\r\n       <use x=\"358.642578\" xlink:href=\"#DejaVuSans-112\"/>\r\n       <use x=\"422.119141\" xlink:href=\"#DejaVuSans-45\"/>\r\n       <use x=\"458.203125\" xlink:href=\"#DejaVuSans-102\"/>\r\n       <use x=\"493.408203\" xlink:href=\"#DejaVuSans-114\"/>\r\n       <use x=\"534.521484\" xlink:href=\"#DejaVuSans-105\"/>\r\n       <use x=\"562.304688\" xlink:href=\"#DejaVuSans-101\"/>\r\n       <use x=\"623.828125\" xlink:href=\"#DejaVuSans-110\"/>\r\n       <use x=\"687.207031\" xlink:href=\"#DejaVuSans-100\"/>\r\n       <use x=\"750.683594\" xlink:href=\"#DejaVuSans-108\"/>\r\n       <use x=\"778.466797\" xlink:href=\"#DejaVuSans-121\"/>\r\n       <use x=\"837.646484\" xlink:href=\"#DejaVuSans-32\"/>\r\n       <use x=\"869.433594\" xlink:href=\"#DejaVuSans-119\"/>\r\n       <use x=\"951.220703\" xlink:href=\"#DejaVuSans-111\"/>\r\n       <use x=\"1012.402344\" xlink:href=\"#DejaVuSans-114\"/>\r\n       <use x=\"1053.515625\" xlink:href=\"#DejaVuSans-107\"/>\r\n       <use x=\"1111.425781\" xlink:href=\"#DejaVuSans-115\"/>\r\n       <use x=\"1163.525391\" xlink:href=\"#DejaVuSans-112\"/>\r\n       <use x=\"1227.001953\" xlink:href=\"#DejaVuSans-97\"/>\r\n       <use x=\"1288.28125\" xlink:href=\"#DejaVuSans-99\"/>\r\n       <use x=\"1343.261719\" xlink:href=\"#DejaVuSans-101\"/>\r\n       <use x=\"1404.785156\" xlink:href=\"#DejaVuSans-34\"/>\r\n      </g>\r\n     </g>\r\n    </g>\r\n    <g id=\"xtick_13\">\r\n     <g id=\"line2d_13\">\r\n      <g>\r\n       <use style=\"stroke:#000000;stroke-width:0.8;\" x=\"253.03125\" xlink:href=\"#m357f386306\" y=\"239.758125\"/>\r\n      </g>\r\n     </g>\r\n     <g id=\"text_13\">\r\n      <!--  \"Shampoo\" -->\r\n      <g transform=\"translate(255.790625 306.276875)rotate(-90)scale(0.1 -0.1)\">\r\n       <use xlink:href=\"#DejaVuSans-32\"/>\r\n       <use x=\"31.787109\" xlink:href=\"#DejaVuSans-34\"/>\r\n       <use x=\"77.783203\" xlink:href=\"#DejaVuSans-83\"/>\r\n       <use x=\"141.259766\" xlink:href=\"#DejaVuSans-104\"/>\r\n       <use x=\"204.638672\" xlink:href=\"#DejaVuSans-97\"/>\r\n       <use x=\"265.917969\" xlink:href=\"#DejaVuSans-109\"/>\r\n       <use x=\"363.330078\" xlink:href=\"#DejaVuSans-112\"/>\r\n       <use x=\"426.806641\" xlink:href=\"#DejaVuSans-111\"/>\r\n       <use x=\"487.988281\" xlink:href=\"#DejaVuSans-111\"/>\r\n       <use x=\"549.169922\" xlink:href=\"#DejaVuSans-34\"/>\r\n      </g>\r\n     </g>\r\n    </g>\r\n    <g id=\"xtick_14\">\r\n     <g id=\"line2d_14\">\r\n      <g>\r\n       <use style=\"stroke:#000000;stroke-width:0.8;\" x=\"269.77125\" xlink:href=\"#m357f386306\" y=\"239.758125\"/>\r\n      </g>\r\n     </g>\r\n     <g id=\"text_14\">\r\n      <!--  \"TV\" -->\r\n      <g transform=\"translate(272.530625 272.084687)rotate(-90)scale(0.1 -0.1)\">\r\n       <defs>\r\n        <path d=\"M -0.296875 72.90625 \r\nL 61.375 72.90625 \r\nL 61.375 64.59375 \r\nL 35.5 64.59375 \r\nL 35.5 0 \r\nL 25.59375 0 \r\nL 25.59375 64.59375 \r\nL -0.296875 64.59375 \r\nz\r\n\" id=\"DejaVuSans-84\"/>\r\n        <path d=\"M 28.609375 0 \r\nL 0.78125 72.90625 \r\nL 11.078125 72.90625 \r\nL 34.1875 11.53125 \r\nL 57.328125 72.90625 \r\nL 67.578125 72.90625 \r\nL 39.796875 0 \r\nz\r\n\" id=\"DejaVuSans-86\"/>\r\n       </defs>\r\n       <use xlink:href=\"#DejaVuSans-32\"/>\r\n       <use x=\"31.787109\" xlink:href=\"#DejaVuSans-34\"/>\r\n       <use x=\"77.783203\" xlink:href=\"#DejaVuSans-84\"/>\r\n       <use x=\"138.867188\" xlink:href=\"#DejaVuSans-86\"/>\r\n       <use x=\"207.275391\" xlink:href=\"#DejaVuSans-34\"/>\r\n      </g>\r\n     </g>\r\n    </g>\r\n    <g id=\"xtick_15\">\r\n     <g id=\"line2d_15\">\r\n      <g>\r\n       <use style=\"stroke:#000000;stroke-width:0.8;\" x=\"286.51125\" xlink:href=\"#m357f386306\" y=\"239.758125\"/>\r\n      </g>\r\n     </g>\r\n     <g id=\"text_15\">\r\n      <!--  \"Iron\" -->\r\n      <g transform=\"translate(289.270625 278.428437)rotate(-90)scale(0.1 -0.1)\">\r\n       <defs>\r\n        <path d=\"M 9.8125 72.90625 \r\nL 19.671875 72.90625 \r\nL 19.671875 0 \r\nL 9.8125 0 \r\nz\r\n\" id=\"DejaVuSans-73\"/>\r\n       </defs>\r\n       <use xlink:href=\"#DejaVuSans-32\"/>\r\n       <use x=\"31.787109\" xlink:href=\"#DejaVuSans-34\"/>\r\n       <use x=\"77.783203\" xlink:href=\"#DejaVuSans-73\"/>\r\n       <use x=\"107.275391\" xlink:href=\"#DejaVuSans-114\"/>\r\n       <use x=\"146.138672\" xlink:href=\"#DejaVuSans-111\"/>\r\n       <use x=\"207.320312\" xlink:href=\"#DejaVuSans-110\"/>\r\n       <use x=\"270.699219\" xlink:href=\"#DejaVuSans-34\"/>\r\n      </g>\r\n     </g>\r\n    </g>\r\n    <g id=\"xtick_16\">\r\n     <g id=\"line2d_16\">\r\n      <g>\r\n       <use style=\"stroke:#000000;stroke-width:0.8;\" x=\"303.25125\" xlink:href=\"#m357f386306\" y=\"239.758125\"/>\r\n      </g>\r\n     </g>\r\n     <g id=\"text_16\">\r\n      <!--  \"Hot water\" -->\r\n      <g transform=\"translate(306.010625 308.364375)rotate(-90)scale(0.1 -0.1)\">\r\n       <use xlink:href=\"#DejaVuSans-32\"/>\r\n       <use x=\"31.787109\" xlink:href=\"#DejaVuSans-34\"/>\r\n       <use x=\"77.783203\" xlink:href=\"#DejaVuSans-72\"/>\r\n       <use x=\"152.978516\" xlink:href=\"#DejaVuSans-111\"/>\r\n       <use x=\"214.160156\" xlink:href=\"#DejaVuSans-116\"/>\r\n       <use x=\"253.369141\" xlink:href=\"#DejaVuSans-32\"/>\r\n       <use x=\"285.15625\" xlink:href=\"#DejaVuSans-119\"/>\r\n       <use x=\"366.943359\" xlink:href=\"#DejaVuSans-97\"/>\r\n       <use x=\"428.222656\" xlink:href=\"#DejaVuSans-116\"/>\r\n       <use x=\"467.431641\" xlink:href=\"#DejaVuSans-101\"/>\r\n       <use x=\"528.955078\" xlink:href=\"#DejaVuSans-114\"/>\r\n       <use x=\"570.068359\" xlink:href=\"#DejaVuSans-34\"/>\r\n      </g>\r\n     </g>\r\n    </g>\r\n    <g id=\"xtick_17\">\r\n     <g id=\"line2d_17\">\r\n      <g>\r\n       <use style=\"stroke:#000000;stroke-width:0.8;\" x=\"319.99125\" xlink:href=\"#m357f386306\" y=\"239.758125\"/>\r\n      </g>\r\n     </g>\r\n     <g id=\"text_17\">\r\n      <!--  \"Refrigerator\" -->\r\n      <g transform=\"translate(322.750625 319.087813)rotate(-90)scale(0.1 -0.1)\">\r\n       <defs>\r\n        <path d=\"M 44.390625 34.1875 \r\nQ 47.5625 33.109375 50.5625 29.59375 \r\nQ 53.5625 26.078125 56.59375 19.921875 \r\nL 66.609375 0 \r\nL 56 0 \r\nL 46.6875 18.703125 \r\nQ 43.0625 26.03125 39.671875 28.421875 \r\nQ 36.28125 30.8125 30.421875 30.8125 \r\nL 19.671875 30.8125 \r\nL 19.671875 0 \r\nL 9.8125 0 \r\nL 9.8125 72.90625 \r\nL 32.078125 72.90625 \r\nQ 44.578125 72.90625 50.734375 67.671875 \r\nQ 56.890625 62.453125 56.890625 51.90625 \r\nQ 56.890625 45.015625 53.6875 40.46875 \r\nQ 50.484375 35.9375 44.390625 34.1875 \r\nz\r\nM 19.671875 64.796875 \r\nL 19.671875 38.921875 \r\nL 32.078125 38.921875 \r\nQ 39.203125 38.921875 42.84375 42.21875 \r\nQ 46.484375 45.515625 46.484375 51.90625 \r\nQ 46.484375 58.296875 42.84375 61.546875 \r\nQ 39.203125 64.796875 32.078125 64.796875 \r\nz\r\n\" id=\"DejaVuSans-82\"/>\r\n       </defs>\r\n       <use xlink:href=\"#DejaVuSans-32\"/>\r\n       <use x=\"31.787109\" xlink:href=\"#DejaVuSans-34\"/>\r\n       <use x=\"77.783203\" xlink:href=\"#DejaVuSans-82\"/>\r\n       <use x=\"142.765625\" xlink:href=\"#DejaVuSans-101\"/>\r\n       <use x=\"204.289062\" xlink:href=\"#DejaVuSans-102\"/>\r\n       <use x=\"239.494141\" xlink:href=\"#DejaVuSans-114\"/>\r\n       <use x=\"280.607422\" xlink:href=\"#DejaVuSans-105\"/>\r\n       <use x=\"308.390625\" xlink:href=\"#DejaVuSans-103\"/>\r\n       <use x=\"371.867188\" xlink:href=\"#DejaVuSans-101\"/>\r\n       <use x=\"433.390625\" xlink:href=\"#DejaVuSans-114\"/>\r\n       <use x=\"474.503906\" xlink:href=\"#DejaVuSans-97\"/>\r\n       <use x=\"535.783203\" xlink:href=\"#DejaVuSans-116\"/>\r\n       <use x=\"574.992188\" xlink:href=\"#DejaVuSans-111\"/>\r\n       <use x=\"636.173828\" xlink:href=\"#DejaVuSans-114\"/>\r\n       <use x=\"677.287109\" xlink:href=\"#DejaVuSans-34\"/>\r\n      </g>\r\n     </g>\r\n    </g>\r\n    <g id=\"xtick_18\">\r\n     <g id=\"line2d_18\">\r\n      <g>\r\n       <use style=\"stroke:#000000;stroke-width:0.8;\" x=\"336.73125\" xlink:href=\"#m357f386306\" y=\"239.758125\"/>\r\n      </g>\r\n     </g>\r\n     <g id=\"text_18\">\r\n      <!--  \"Fire extinguisher\" -->\r\n      <g transform=\"translate(339.490625 342.365938)rotate(-90)scale(0.1 -0.1)\">\r\n       <defs>\r\n        <path d=\"M 9.8125 72.90625 \r\nL 51.703125 72.90625 \r\nL 51.703125 64.59375 \r\nL 19.671875 64.59375 \r\nL 19.671875 43.109375 \r\nL 48.578125 43.109375 \r\nL 48.578125 34.8125 \r\nL 19.671875 34.8125 \r\nL 19.671875 0 \r\nL 9.8125 0 \r\nz\r\n\" id=\"DejaVuSans-70\"/>\r\n        <path d=\"M 8.5 21.578125 \r\nL 8.5 54.6875 \r\nL 17.484375 54.6875 \r\nL 17.484375 21.921875 \r\nQ 17.484375 14.15625 20.5 10.265625 \r\nQ 23.53125 6.390625 29.59375 6.390625 \r\nQ 36.859375 6.390625 41.078125 11.03125 \r\nQ 45.3125 15.671875 45.3125 23.6875 \r\nL 45.3125 54.6875 \r\nL 54.296875 54.6875 \r\nL 54.296875 0 \r\nL 45.3125 0 \r\nL 45.3125 8.40625 \r\nQ 42.046875 3.421875 37.71875 1 \r\nQ 33.40625 -1.421875 27.6875 -1.421875 \r\nQ 18.265625 -1.421875 13.375 4.4375 \r\nQ 8.5 10.296875 8.5 21.578125 \r\nz\r\nM 31.109375 56 \r\nz\r\n\" id=\"DejaVuSans-117\"/>\r\n       </defs>\r\n       <use xlink:href=\"#DejaVuSans-32\"/>\r\n       <use x=\"31.787109\" xlink:href=\"#DejaVuSans-34\"/>\r\n       <use x=\"77.783203\" xlink:href=\"#DejaVuSans-70\"/>\r\n       <use x=\"128.052734\" xlink:href=\"#DejaVuSans-105\"/>\r\n       <use x=\"155.835938\" xlink:href=\"#DejaVuSans-114\"/>\r\n       <use x=\"194.699219\" xlink:href=\"#DejaVuSans-101\"/>\r\n       <use x=\"256.222656\" xlink:href=\"#DejaVuSans-32\"/>\r\n       <use x=\"288.009766\" xlink:href=\"#DejaVuSans-101\"/>\r\n       <use x=\"347.783203\" xlink:href=\"#DejaVuSans-120\"/>\r\n       <use x=\"406.962891\" xlink:href=\"#DejaVuSans-116\"/>\r\n       <use x=\"446.171875\" xlink:href=\"#DejaVuSans-105\"/>\r\n       <use x=\"473.955078\" xlink:href=\"#DejaVuSans-110\"/>\r\n       <use x=\"537.333984\" xlink:href=\"#DejaVuSans-103\"/>\r\n       <use x=\"600.810547\" xlink:href=\"#DejaVuSans-117\"/>\r\n       <use x=\"664.189453\" xlink:href=\"#DejaVuSans-105\"/>\r\n       <use x=\"691.972656\" xlink:href=\"#DejaVuSans-115\"/>\r\n       <use x=\"744.072266\" xlink:href=\"#DejaVuSans-104\"/>\r\n       <use x=\"807.451172\" xlink:href=\"#DejaVuSans-101\"/>\r\n       <use x=\"868.974609\" xlink:href=\"#DejaVuSans-114\"/>\r\n       <use x=\"910.087891\" xlink:href=\"#DejaVuSans-34\"/>\r\n      </g>\r\n     </g>\r\n    </g>\r\n    <g id=\"xtick_19\">\r\n     <g id=\"line2d_19\">\r\n      <g>\r\n       <use style=\"stroke:#000000;stroke-width:0.8;\" x=\"353.47125\" xlink:href=\"#m357f386306\" y=\"239.758125\"/>\r\n      </g>\r\n     </g>\r\n     <g id=\"text_19\">\r\n      <!--  \"Dishes and silverware\" -->\r\n      <g transform=\"translate(356.230625 368.987813)rotate(-90)scale(0.1 -0.1)\">\r\n       <defs>\r\n        <path d=\"M 2.984375 54.6875 \r\nL 12.5 54.6875 \r\nL 29.59375 8.796875 \r\nL 46.6875 54.6875 \r\nL 56.203125 54.6875 \r\nL 35.6875 0 \r\nL 23.484375 0 \r\nz\r\n\" id=\"DejaVuSans-118\"/>\r\n       </defs>\r\n       <use xlink:href=\"#DejaVuSans-32\"/>\r\n       <use x=\"31.787109\" xlink:href=\"#DejaVuSans-34\"/>\r\n       <use x=\"77.783203\" xlink:href=\"#DejaVuSans-68\"/>\r\n       <use x=\"154.785156\" xlink:href=\"#DejaVuSans-105\"/>\r\n       <use x=\"182.568359\" xlink:href=\"#DejaVuSans-115\"/>\r\n       <use x=\"234.667969\" xlink:href=\"#DejaVuSans-104\"/>\r\n       <use x=\"298.046875\" xlink:href=\"#DejaVuSans-101\"/>\r\n       <use x=\"359.570312\" xlink:href=\"#DejaVuSans-115\"/>\r\n       <use x=\"411.669922\" xlink:href=\"#DejaVuSans-32\"/>\r\n       <use x=\"443.457031\" xlink:href=\"#DejaVuSans-97\"/>\r\n       <use x=\"504.736328\" xlink:href=\"#DejaVuSans-110\"/>\r\n       <use x=\"568.115234\" xlink:href=\"#DejaVuSans-100\"/>\r\n       <use x=\"631.591797\" xlink:href=\"#DejaVuSans-32\"/>\r\n       <use x=\"663.378906\" xlink:href=\"#DejaVuSans-115\"/>\r\n       <use x=\"715.478516\" xlink:href=\"#DejaVuSans-105\"/>\r\n       <use x=\"743.261719\" xlink:href=\"#DejaVuSans-108\"/>\r\n       <use x=\"771.044922\" xlink:href=\"#DejaVuSans-118\"/>\r\n       <use x=\"830.224609\" xlink:href=\"#DejaVuSans-101\"/>\r\n       <use x=\"891.748047\" xlink:href=\"#DejaVuSans-114\"/>\r\n       <use x=\"932.861328\" xlink:href=\"#DejaVuSans-119\"/>\r\n       <use x=\"1014.648438\" xlink:href=\"#DejaVuSans-97\"/>\r\n       <use x=\"1075.927734\" xlink:href=\"#DejaVuSans-114\"/>\r\n       <use x=\"1114.791016\" xlink:href=\"#DejaVuSans-101\"/>\r\n       <use x=\"1176.314453\" xlink:href=\"#DejaVuSans-34\"/>\r\n      </g>\r\n     </g>\r\n    </g>\r\n    <g id=\"xtick_20\">\r\n     <g id=\"line2d_20\">\r\n      <g>\r\n       <use style=\"stroke:#000000;stroke-width:0.8;\" x=\"370.21125\" xlink:href=\"#m357f386306\" y=\"239.758125\"/>\r\n      </g>\r\n     </g>\r\n     <g id=\"text_20\">\r\n      <!--  \"Hair dryer\"] -->\r\n      <g transform=\"translate(372.970625 313.395625)rotate(-90)scale(0.1 -0.1)\">\r\n       <defs>\r\n        <path d=\"M 30.421875 75.984375 \r\nL 30.421875 -13.1875 \r\nL 9.71875 -13.1875 \r\nL 9.71875 -6.203125 \r\nL 21.390625 -6.203125 \r\nL 21.390625 69 \r\nL 9.71875 69 \r\nL 9.71875 75.984375 \r\nz\r\n\" id=\"DejaVuSans-93\"/>\r\n       </defs>\r\n       <use xlink:href=\"#DejaVuSans-32\"/>\r\n       <use x=\"31.787109\" xlink:href=\"#DejaVuSans-34\"/>\r\n       <use x=\"77.783203\" xlink:href=\"#DejaVuSans-72\"/>\r\n       <use x=\"152.978516\" xlink:href=\"#DejaVuSans-97\"/>\r\n       <use x=\"214.257812\" xlink:href=\"#DejaVuSans-105\"/>\r\n       <use x=\"242.041016\" xlink:href=\"#DejaVuSans-114\"/>\r\n       <use x=\"283.154297\" xlink:href=\"#DejaVuSans-32\"/>\r\n       <use x=\"314.941406\" xlink:href=\"#DejaVuSans-100\"/>\r\n       <use x=\"378.417969\" xlink:href=\"#DejaVuSans-114\"/>\r\n       <use x=\"419.53125\" xlink:href=\"#DejaVuSans-121\"/>\r\n       <use x=\"478.710938\" xlink:href=\"#DejaVuSans-101\"/>\r\n       <use x=\"540.234375\" xlink:href=\"#DejaVuSans-114\"/>\r\n       <use x=\"581.347656\" xlink:href=\"#DejaVuSans-34\"/>\r\n       <use x=\"627.34375\" xlink:href=\"#DejaVuSans-93\"/>\r\n      </g>\r\n     </g>\r\n    </g>\r\n    <g id=\"text_21\">\r\n     <!-- amenities -->\r\n     <g transform=\"translate(186.582031 403.437813)scale(0.1 -0.1)\">\r\n      <use xlink:href=\"#DejaVuSans-97\"/>\r\n      <use x=\"61.279297\" xlink:href=\"#DejaVuSans-109\"/>\r\n      <use x=\"158.691406\" xlink:href=\"#DejaVuSans-101\"/>\r\n      <use x=\"220.214844\" xlink:href=\"#DejaVuSans-110\"/>\r\n      <use x=\"283.59375\" xlink:href=\"#DejaVuSans-105\"/>\r\n      <use x=\"311.376953\" xlink:href=\"#DejaVuSans-116\"/>\r\n      <use x=\"350.585938\" xlink:href=\"#DejaVuSans-105\"/>\r\n      <use x=\"378.369141\" xlink:href=\"#DejaVuSans-101\"/>\r\n      <use x=\"439.892578\" xlink:href=\"#DejaVuSans-115\"/>\r\n     </g>\r\n    </g>\r\n   </g>\r\n   <g id=\"matplotlib.axis_2\">\r\n    <g id=\"ytick_1\">\r\n     <g id=\"line2d_21\">\r\n      <defs>\r\n       <path d=\"M 0 0 \r\nL -3.5 0 \r\n\" id=\"m0108c95048\" style=\"stroke:#000000;stroke-width:0.8;\"/>\r\n      </defs>\r\n      <g>\r\n       <use style=\"stroke:#000000;stroke-width:0.8;\" x=\"43.78125\" xlink:href=\"#m0108c95048\" y=\"239.758125\"/>\r\n      </g>\r\n     </g>\r\n     <g id=\"text_22\">\r\n      <!-- 0.0 -->\r\n      <g transform=\"translate(20.878125 243.557344)scale(0.1 -0.1)\">\r\n       <defs>\r\n        <path d=\"M 31.78125 66.40625 \r\nQ 24.171875 66.40625 20.328125 58.90625 \r\nQ 16.5 51.421875 16.5 36.375 \r\nQ 16.5 21.390625 20.328125 13.890625 \r\nQ 24.171875 6.390625 31.78125 6.390625 \r\nQ 39.453125 6.390625 43.28125 13.890625 \r\nQ 47.125 21.390625 47.125 36.375 \r\nQ 47.125 51.421875 43.28125 58.90625 \r\nQ 39.453125 66.40625 31.78125 66.40625 \r\nz\r\nM 31.78125 74.21875 \r\nQ 44.046875 74.21875 50.515625 64.515625 \r\nQ 56.984375 54.828125 56.984375 36.375 \r\nQ 56.984375 17.96875 50.515625 8.265625 \r\nQ 44.046875 -1.421875 31.78125 -1.421875 \r\nQ 19.53125 -1.421875 13.0625 8.265625 \r\nQ 6.59375 17.96875 6.59375 36.375 \r\nQ 6.59375 54.828125 13.0625 64.515625 \r\nQ 19.53125 74.21875 31.78125 74.21875 \r\nz\r\n\" id=\"DejaVuSans-48\"/>\r\n        <path d=\"M 10.6875 12.40625 \r\nL 21 12.40625 \r\nL 21 0 \r\nL 10.6875 0 \r\nz\r\n\" id=\"DejaVuSans-46\"/>\r\n       </defs>\r\n       <use xlink:href=\"#DejaVuSans-48\"/>\r\n       <use x=\"63.623047\" xlink:href=\"#DejaVuSans-46\"/>\r\n       <use x=\"95.410156\" xlink:href=\"#DejaVuSans-48\"/>\r\n      </g>\r\n     </g>\r\n    </g>\r\n    <g id=\"ytick_2\">\r\n     <g id=\"line2d_22\">\r\n      <g>\r\n       <use style=\"stroke:#000000;stroke-width:0.8;\" x=\"43.78125\" xlink:href=\"#m0108c95048\" y=\"197.38141\"/>\r\n      </g>\r\n     </g>\r\n     <g id=\"text_23\">\r\n      <!-- 0.2 -->\r\n      <g transform=\"translate(20.878125 201.180629)scale(0.1 -0.1)\">\r\n       <defs>\r\n        <path d=\"M 19.1875 8.296875 \r\nL 53.609375 8.296875 \r\nL 53.609375 0 \r\nL 7.328125 0 \r\nL 7.328125 8.296875 \r\nQ 12.9375 14.109375 22.625 23.890625 \r\nQ 32.328125 33.6875 34.8125 36.53125 \r\nQ 39.546875 41.84375 41.421875 45.53125 \r\nQ 43.3125 49.21875 43.3125 52.78125 \r\nQ 43.3125 58.59375 39.234375 62.25 \r\nQ 35.15625 65.921875 28.609375 65.921875 \r\nQ 23.96875 65.921875 18.8125 64.3125 \r\nQ 13.671875 62.703125 7.8125 59.421875 \r\nL 7.8125 69.390625 \r\nQ 13.765625 71.78125 18.9375 73 \r\nQ 24.125 74.21875 28.421875 74.21875 \r\nQ 39.75 74.21875 46.484375 68.546875 \r\nQ 53.21875 62.890625 53.21875 53.421875 \r\nQ 53.21875 48.921875 51.53125 44.890625 \r\nQ 49.859375 40.875 45.40625 35.40625 \r\nQ 44.1875 33.984375 37.640625 27.21875 \r\nQ 31.109375 20.453125 19.1875 8.296875 \r\nz\r\n\" id=\"DejaVuSans-50\"/>\r\n       </defs>\r\n       <use xlink:href=\"#DejaVuSans-48\"/>\r\n       <use x=\"63.623047\" xlink:href=\"#DejaVuSans-46\"/>\r\n       <use x=\"95.410156\" xlink:href=\"#DejaVuSans-50\"/>\r\n      </g>\r\n     </g>\r\n    </g>\r\n    <g id=\"ytick_3\">\r\n     <g id=\"line2d_23\">\r\n      <g>\r\n       <use style=\"stroke:#000000;stroke-width:0.8;\" x=\"43.78125\" xlink:href=\"#m0108c95048\" y=\"155.004695\"/>\r\n      </g>\r\n     </g>\r\n     <g id=\"text_24\">\r\n      <!-- 0.4 -->\r\n      <g transform=\"translate(20.878125 158.803914)scale(0.1 -0.1)\">\r\n       <defs>\r\n        <path d=\"M 37.796875 64.3125 \r\nL 12.890625 25.390625 \r\nL 37.796875 25.390625 \r\nz\r\nM 35.203125 72.90625 \r\nL 47.609375 72.90625 \r\nL 47.609375 25.390625 \r\nL 58.015625 25.390625 \r\nL 58.015625 17.1875 \r\nL 47.609375 17.1875 \r\nL 47.609375 0 \r\nL 37.796875 0 \r\nL 37.796875 17.1875 \r\nL 4.890625 17.1875 \r\nL 4.890625 26.703125 \r\nz\r\n\" id=\"DejaVuSans-52\"/>\r\n       </defs>\r\n       <use xlink:href=\"#DejaVuSans-48\"/>\r\n       <use x=\"63.623047\" xlink:href=\"#DejaVuSans-46\"/>\r\n       <use x=\"95.410156\" xlink:href=\"#DejaVuSans-52\"/>\r\n      </g>\r\n     </g>\r\n    </g>\r\n    <g id=\"ytick_4\">\r\n     <g id=\"line2d_24\">\r\n      <g>\r\n       <use style=\"stroke:#000000;stroke-width:0.8;\" x=\"43.78125\" xlink:href=\"#m0108c95048\" y=\"112.62798\"/>\r\n      </g>\r\n     </g>\r\n     <g id=\"text_25\">\r\n      <!-- 0.6 -->\r\n      <g transform=\"translate(20.878125 116.427199)scale(0.1 -0.1)\">\r\n       <defs>\r\n        <path d=\"M 33.015625 40.375 \r\nQ 26.375 40.375 22.484375 35.828125 \r\nQ 18.609375 31.296875 18.609375 23.390625 \r\nQ 18.609375 15.53125 22.484375 10.953125 \r\nQ 26.375 6.390625 33.015625 6.390625 \r\nQ 39.65625 6.390625 43.53125 10.953125 \r\nQ 47.40625 15.53125 47.40625 23.390625 \r\nQ 47.40625 31.296875 43.53125 35.828125 \r\nQ 39.65625 40.375 33.015625 40.375 \r\nz\r\nM 52.59375 71.296875 \r\nL 52.59375 62.3125 \r\nQ 48.875 64.0625 45.09375 64.984375 \r\nQ 41.3125 65.921875 37.59375 65.921875 \r\nQ 27.828125 65.921875 22.671875 59.328125 \r\nQ 17.53125 52.734375 16.796875 39.40625 \r\nQ 19.671875 43.65625 24.015625 45.921875 \r\nQ 28.375 48.1875 33.59375 48.1875 \r\nQ 44.578125 48.1875 50.953125 41.515625 \r\nQ 57.328125 34.859375 57.328125 23.390625 \r\nQ 57.328125 12.15625 50.6875 5.359375 \r\nQ 44.046875 -1.421875 33.015625 -1.421875 \r\nQ 20.359375 -1.421875 13.671875 8.265625 \r\nQ 6.984375 17.96875 6.984375 36.375 \r\nQ 6.984375 53.65625 15.1875 63.9375 \r\nQ 23.390625 74.21875 37.203125 74.21875 \r\nQ 40.921875 74.21875 44.703125 73.484375 \r\nQ 48.484375 72.75 52.59375 71.296875 \r\nz\r\n\" id=\"DejaVuSans-54\"/>\r\n       </defs>\r\n       <use xlink:href=\"#DejaVuSans-48\"/>\r\n       <use x=\"63.623047\" xlink:href=\"#DejaVuSans-46\"/>\r\n       <use x=\"95.410156\" xlink:href=\"#DejaVuSans-54\"/>\r\n      </g>\r\n     </g>\r\n    </g>\r\n    <g id=\"ytick_5\">\r\n     <g id=\"line2d_25\">\r\n      <g>\r\n       <use style=\"stroke:#000000;stroke-width:0.8;\" x=\"43.78125\" xlink:href=\"#m0108c95048\" y=\"70.251266\"/>\r\n      </g>\r\n     </g>\r\n     <g id=\"text_26\">\r\n      <!-- 0.8 -->\r\n      <g transform=\"translate(20.878125 74.050484)scale(0.1 -0.1)\">\r\n       <defs>\r\n        <path d=\"M 31.78125 34.625 \r\nQ 24.75 34.625 20.71875 30.859375 \r\nQ 16.703125 27.09375 16.703125 20.515625 \r\nQ 16.703125 13.921875 20.71875 10.15625 \r\nQ 24.75 6.390625 31.78125 6.390625 \r\nQ 38.8125 6.390625 42.859375 10.171875 \r\nQ 46.921875 13.96875 46.921875 20.515625 \r\nQ 46.921875 27.09375 42.890625 30.859375 \r\nQ 38.875 34.625 31.78125 34.625 \r\nz\r\nM 21.921875 38.8125 \r\nQ 15.578125 40.375 12.03125 44.71875 \r\nQ 8.5 49.078125 8.5 55.328125 \r\nQ 8.5 64.0625 14.71875 69.140625 \r\nQ 20.953125 74.21875 31.78125 74.21875 \r\nQ 42.671875 74.21875 48.875 69.140625 \r\nQ 55.078125 64.0625 55.078125 55.328125 \r\nQ 55.078125 49.078125 51.53125 44.71875 \r\nQ 48 40.375 41.703125 38.8125 \r\nQ 48.828125 37.15625 52.796875 32.3125 \r\nQ 56.78125 27.484375 56.78125 20.515625 \r\nQ 56.78125 9.90625 50.3125 4.234375 \r\nQ 43.84375 -1.421875 31.78125 -1.421875 \r\nQ 19.734375 -1.421875 13.25 4.234375 \r\nQ 6.78125 9.90625 6.78125 20.515625 \r\nQ 6.78125 27.484375 10.78125 32.3125 \r\nQ 14.796875 37.15625 21.921875 38.8125 \r\nz\r\nM 18.3125 54.390625 \r\nQ 18.3125 48.734375 21.84375 45.5625 \r\nQ 25.390625 42.390625 31.78125 42.390625 \r\nQ 38.140625 42.390625 41.71875 45.5625 \r\nQ 45.3125 48.734375 45.3125 54.390625 \r\nQ 45.3125 60.0625 41.71875 63.234375 \r\nQ 38.140625 66.40625 31.78125 66.40625 \r\nQ 25.390625 66.40625 21.84375 63.234375 \r\nQ 18.3125 60.0625 18.3125 54.390625 \r\nz\r\n\" id=\"DejaVuSans-56\"/>\r\n       </defs>\r\n       <use xlink:href=\"#DejaVuSans-48\"/>\r\n       <use x=\"63.623047\" xlink:href=\"#DejaVuSans-46\"/>\r\n       <use x=\"95.410156\" xlink:href=\"#DejaVuSans-56\"/>\r\n      </g>\r\n     </g>\r\n    </g>\r\n    <g id=\"ytick_6\">\r\n     <g id=\"line2d_26\">\r\n      <g>\r\n       <use style=\"stroke:#000000;stroke-width:0.8;\" x=\"43.78125\" xlink:href=\"#m0108c95048\" y=\"27.874551\"/>\r\n      </g>\r\n     </g>\r\n     <g id=\"text_27\">\r\n      <!-- 1.0 -->\r\n      <g transform=\"translate(20.878125 31.673769)scale(0.1 -0.1)\">\r\n       <defs>\r\n        <path d=\"M 12.40625 8.296875 \r\nL 28.515625 8.296875 \r\nL 28.515625 63.921875 \r\nL 10.984375 60.40625 \r\nL 10.984375 69.390625 \r\nL 28.421875 72.90625 \r\nL 38.28125 72.90625 \r\nL 38.28125 8.296875 \r\nL 54.390625 8.296875 \r\nL 54.390625 0 \r\nL 12.40625 0 \r\nz\r\n\" id=\"DejaVuSans-49\"/>\r\n       </defs>\r\n       <use xlink:href=\"#DejaVuSans-49\"/>\r\n       <use x=\"63.623047\" xlink:href=\"#DejaVuSans-46\"/>\r\n       <use x=\"95.410156\" xlink:href=\"#DejaVuSans-48\"/>\r\n      </g>\r\n     </g>\r\n    </g>\r\n    <g id=\"text_28\">\r\n     <!-- How many percent of listings has the amenity -->\r\n     <g transform=\"translate(14.798438 246.311562)rotate(-90)scale(0.1 -0.1)\">\r\n      <use xlink:href=\"#DejaVuSans-72\"/>\r\n      <use x=\"75.195312\" xlink:href=\"#DejaVuSans-111\"/>\r\n      <use x=\"136.376953\" xlink:href=\"#DejaVuSans-119\"/>\r\n      <use x=\"218.164062\" xlink:href=\"#DejaVuSans-32\"/>\r\n      <use x=\"249.951172\" xlink:href=\"#DejaVuSans-109\"/>\r\n      <use x=\"347.363281\" xlink:href=\"#DejaVuSans-97\"/>\r\n      <use x=\"408.642578\" xlink:href=\"#DejaVuSans-110\"/>\r\n      <use x=\"472.021484\" xlink:href=\"#DejaVuSans-121\"/>\r\n      <use x=\"531.201172\" xlink:href=\"#DejaVuSans-32\"/>\r\n      <use x=\"562.988281\" xlink:href=\"#DejaVuSans-112\"/>\r\n      <use x=\"626.464844\" xlink:href=\"#DejaVuSans-101\"/>\r\n      <use x=\"687.988281\" xlink:href=\"#DejaVuSans-114\"/>\r\n      <use x=\"726.851562\" xlink:href=\"#DejaVuSans-99\"/>\r\n      <use x=\"781.832031\" xlink:href=\"#DejaVuSans-101\"/>\r\n      <use x=\"843.355469\" xlink:href=\"#DejaVuSans-110\"/>\r\n      <use x=\"906.734375\" xlink:href=\"#DejaVuSans-116\"/>\r\n      <use x=\"945.943359\" xlink:href=\"#DejaVuSans-32\"/>\r\n      <use x=\"977.730469\" xlink:href=\"#DejaVuSans-111\"/>\r\n      <use x=\"1038.912109\" xlink:href=\"#DejaVuSans-102\"/>\r\n      <use x=\"1074.117188\" xlink:href=\"#DejaVuSans-32\"/>\r\n      <use x=\"1105.904297\" xlink:href=\"#DejaVuSans-108\"/>\r\n      <use x=\"1133.6875\" xlink:href=\"#DejaVuSans-105\"/>\r\n      <use x=\"1161.470703\" xlink:href=\"#DejaVuSans-115\"/>\r\n      <use x=\"1213.570312\" xlink:href=\"#DejaVuSans-116\"/>\r\n      <use x=\"1252.779297\" xlink:href=\"#DejaVuSans-105\"/>\r\n      <use x=\"1280.5625\" xlink:href=\"#DejaVuSans-110\"/>\r\n      <use x=\"1343.941406\" xlink:href=\"#DejaVuSans-103\"/>\r\n      <use x=\"1407.417969\" xlink:href=\"#DejaVuSans-115\"/>\r\n      <use x=\"1459.517578\" xlink:href=\"#DejaVuSans-32\"/>\r\n      <use x=\"1491.304688\" xlink:href=\"#DejaVuSans-104\"/>\r\n      <use x=\"1554.683594\" xlink:href=\"#DejaVuSans-97\"/>\r\n      <use x=\"1615.962891\" xlink:href=\"#DejaVuSans-115\"/>\r\n      <use x=\"1668.0625\" xlink:href=\"#DejaVuSans-32\"/>\r\n      <use x=\"1699.849609\" xlink:href=\"#DejaVuSans-116\"/>\r\n      <use x=\"1739.058594\" xlink:href=\"#DejaVuSans-104\"/>\r\n      <use x=\"1802.4375\" xlink:href=\"#DejaVuSans-101\"/>\r\n      <use x=\"1863.960938\" xlink:href=\"#DejaVuSans-32\"/>\r\n      <use x=\"1895.748047\" xlink:href=\"#DejaVuSans-97\"/>\r\n      <use x=\"1957.027344\" xlink:href=\"#DejaVuSans-109\"/>\r\n      <use x=\"2054.439453\" xlink:href=\"#DejaVuSans-101\"/>\r\n      <use x=\"2115.962891\" xlink:href=\"#DejaVuSans-110\"/>\r\n      <use x=\"2179.341797\" xlink:href=\"#DejaVuSans-105\"/>\r\n      <use x=\"2207.125\" xlink:href=\"#DejaVuSans-116\"/>\r\n      <use x=\"2246.333984\" xlink:href=\"#DejaVuSans-121\"/>\r\n     </g>\r\n    </g>\r\n   </g>\r\n   <g id=\"patch_23\">\r\n    <path d=\"M 43.78125 239.758125 \r\nL 43.78125 22.318125 \r\n\" style=\"fill:none;stroke:#000000;stroke-linecap:square;stroke-linejoin:miter;stroke-width:0.8;\"/>\r\n   </g>\r\n   <g id=\"patch_24\">\r\n    <path d=\"M 378.58125 239.758125 \r\nL 378.58125 22.318125 \r\n\" style=\"fill:none;stroke:#000000;stroke-linecap:square;stroke-linejoin:miter;stroke-width:0.8;\"/>\r\n   </g>\r\n   <g id=\"patch_25\">\r\n    <path d=\"M 43.78125 239.758125 \r\nL 378.58125 239.758125 \r\n\" style=\"fill:none;stroke:#000000;stroke-linecap:square;stroke-linejoin:miter;stroke-width:0.8;\"/>\r\n   </g>\r\n   <g id=\"patch_26\">\r\n    <path d=\"M 43.78125 22.318125 \r\nL 378.58125 22.318125 \r\n\" style=\"fill:none;stroke:#000000;stroke-linecap:square;stroke-linejoin:miter;stroke-width:0.8;\"/>\r\n   </g>\r\n   <g id=\"text_29\">\r\n    <!-- Top 20 Most Common Amenities in The Dataset -->\r\n    <g transform=\"translate(68.653125 16.318125)scale(0.12 -0.12)\">\r\n     <defs>\r\n      <path d=\"M 9.8125 72.90625 \r\nL 24.515625 72.90625 \r\nL 43.109375 23.296875 \r\nL 61.8125 72.90625 \r\nL 76.515625 72.90625 \r\nL 76.515625 0 \r\nL 66.890625 0 \r\nL 66.890625 64.015625 \r\nL 48.09375 14.015625 \r\nL 38.1875 14.015625 \r\nL 19.390625 64.015625 \r\nL 19.390625 0 \r\nL 9.8125 0 \r\nz\r\n\" id=\"DejaVuSans-77\"/>\r\n     </defs>\r\n     <use xlink:href=\"#DejaVuSans-84\"/>\r\n     <use x=\"44.083984\" xlink:href=\"#DejaVuSans-111\"/>\r\n     <use x=\"105.265625\" xlink:href=\"#DejaVuSans-112\"/>\r\n     <use x=\"168.742188\" xlink:href=\"#DejaVuSans-32\"/>\r\n     <use x=\"200.529297\" xlink:href=\"#DejaVuSans-50\"/>\r\n     <use x=\"264.152344\" xlink:href=\"#DejaVuSans-48\"/>\r\n     <use x=\"327.775391\" xlink:href=\"#DejaVuSans-32\"/>\r\n     <use x=\"359.5625\" xlink:href=\"#DejaVuSans-77\"/>\r\n     <use x=\"445.841797\" xlink:href=\"#DejaVuSans-111\"/>\r\n     <use x=\"507.023438\" xlink:href=\"#DejaVuSans-115\"/>\r\n     <use x=\"559.123047\" xlink:href=\"#DejaVuSans-116\"/>\r\n     <use x=\"598.332031\" xlink:href=\"#DejaVuSans-32\"/>\r\n     <use x=\"630.119141\" xlink:href=\"#DejaVuSans-67\"/>\r\n     <use x=\"699.943359\" xlink:href=\"#DejaVuSans-111\"/>\r\n     <use x=\"761.125\" xlink:href=\"#DejaVuSans-109\"/>\r\n     <use x=\"858.537109\" xlink:href=\"#DejaVuSans-109\"/>\r\n     <use x=\"955.949219\" xlink:href=\"#DejaVuSans-111\"/>\r\n     <use x=\"1017.130859\" xlink:href=\"#DejaVuSans-110\"/>\r\n     <use x=\"1080.509766\" xlink:href=\"#DejaVuSans-32\"/>\r\n     <use x=\"1112.296875\" xlink:href=\"#DejaVuSans-65\"/>\r\n     <use x=\"1180.705078\" xlink:href=\"#DejaVuSans-109\"/>\r\n     <use x=\"1278.117188\" xlink:href=\"#DejaVuSans-101\"/>\r\n     <use x=\"1339.640625\" xlink:href=\"#DejaVuSans-110\"/>\r\n     <use x=\"1403.019531\" xlink:href=\"#DejaVuSans-105\"/>\r\n     <use x=\"1430.802734\" xlink:href=\"#DejaVuSans-116\"/>\r\n     <use x=\"1470.011719\" xlink:href=\"#DejaVuSans-105\"/>\r\n     <use x=\"1497.794922\" xlink:href=\"#DejaVuSans-101\"/>\r\n     <use x=\"1559.318359\" xlink:href=\"#DejaVuSans-115\"/>\r\n     <use x=\"1611.417969\" xlink:href=\"#DejaVuSans-32\"/>\r\n     <use x=\"1643.205078\" xlink:href=\"#DejaVuSans-105\"/>\r\n     <use x=\"1670.988281\" xlink:href=\"#DejaVuSans-110\"/>\r\n     <use x=\"1734.367188\" xlink:href=\"#DejaVuSans-32\"/>\r\n     <use x=\"1766.154297\" xlink:href=\"#DejaVuSans-84\"/>\r\n     <use x=\"1827.238281\" xlink:href=\"#DejaVuSans-104\"/>\r\n     <use x=\"1890.617188\" xlink:href=\"#DejaVuSans-101\"/>\r\n     <use x=\"1952.140625\" xlink:href=\"#DejaVuSans-32\"/>\r\n     <use x=\"1983.927734\" xlink:href=\"#DejaVuSans-68\"/>\r\n     <use x=\"2060.929688\" xlink:href=\"#DejaVuSans-97\"/>\r\n     <use x=\"2122.208984\" xlink:href=\"#DejaVuSans-116\"/>\r\n     <use x=\"2161.417969\" xlink:href=\"#DejaVuSans-97\"/>\r\n     <use x=\"2222.697266\" xlink:href=\"#DejaVuSans-115\"/>\r\n     <use x=\"2274.796875\" xlink:href=\"#DejaVuSans-101\"/>\r\n     <use x=\"2336.320312\" xlink:href=\"#DejaVuSans-116\"/>\r\n    </g>\r\n   </g>\r\n  </g>\r\n </g>\r\n <defs>\r\n  <clipPath id=\"p97e1a54bab\">\r\n   <rect height=\"217.44\" width=\"334.8\" x=\"43.78125\" y=\"22.318125\"/>\r\n  </clipPath>\r\n </defs>\r\n</svg>\r\n",
      "image/png": "[encoded data removed]"
     },
     "metadata": {
      "needs_background": "light"
     }
    }
   ],
   "source": [
    "#Here I create a bar chart to show the percentage of each amenity from the most common to the least common.\n",
    "(study_df/len(df_list))[:20].plot(kind='bar', legend=None);\n",
    "plt.title('Top 20 Most Common Amenities in The Dataset');\n",
    "plt.ylabel('How many percent of listings has the amenity')\n",
    "plt.show()"
   ]
  },
  {
   "cell_type": "code",
   "execution_count": null,
   "metadata": {},
   "outputs": [],
   "source": [
    "In the above chart you can see that the most common amenities in Toronto listings are:\n",
    "\n",
    "Internet\n",
    "Wireless Internet\n",
    "Heating\n",
    "Smoke Detector\n",
    "Essentials"
   ]
  },
  {
   "cell_type": "code",
   "execution_count": null,
   "metadata": {},
   "outputs": [],
   "source": [
    "\n",
    "Whereas the least common amenities in Toronto listings are:\n",
    "\n",
    "Lock on Bedroom Door\n",
    "Doorman\n",
    "Smoking Allowed\n",
    "Other pet(s)\n",
    "Washer / Dryer"
   ]
  },
  {
   "cell_type": "code",
   "execution_count": null,
   "metadata": {},
   "outputs": [],
   "source": []
  },
  {
   "cell_type": "code",
   "execution_count": null,
   "metadata": {},
   "outputs": [],
   "source": []
  },
  {
   "cell_type": "code",
   "execution_count": null,
   "metadata": {},
   "outputs": [],
   "source": []
  },
  {
   "cell_type": "code",
   "execution_count": null,
   "metadata": {},
   "outputs": [],
   "source": []
  },
  {
   "cell_type": "code",
   "execution_count": null,
   "metadata": {},
   "outputs": [],
   "source": []
  },
  {
   "cell_type": "code",
   "execution_count": 86,
   "metadata": {},
   "outputs": [
    {
     "output_type": "error",
     "ename": "KeyError",
     "evalue": "['Salary']",
     "traceback": [
      "\u001b[1;31m---------------------------------------------------------------------------\u001b[0m",
      "\u001b[1;31mKeyError\u001b[0m                                  Traceback (most recent call last)",
      "\u001b[1;32m<ipython-input-86-b6b1109413ac>\u001b[0m in \u001b[0;36m<module>\u001b[1;34m\u001b[0m\n\u001b[0;32m     38\u001b[0m \u001b[1;33m\u001b[0m\u001b[0m\n\u001b[0;32m     39\u001b[0m \u001b[1;31m#Use the function to create X and y\u001b[0m\u001b[1;33m\u001b[0m\u001b[1;33m\u001b[0m\u001b[1;33m\u001b[0m\u001b[0m\n\u001b[1;32m---> 40\u001b[1;33m \u001b[0mX\u001b[0m\u001b[1;33m,\u001b[0m \u001b[0my\u001b[0m \u001b[1;33m=\u001b[0m \u001b[0mclean_data\u001b[0m\u001b[1;33m(\u001b[0m\u001b[0mdf_list\u001b[0m\u001b[1;33m)\u001b[0m\u001b[1;33m\u001b[0m\u001b[1;33m\u001b[0m\u001b[0m\n\u001b[0m",
      "\u001b[1;32m<ipython-input-86-b6b1109413ac>\u001b[0m in \u001b[0;36mclean_data\u001b[1;34m(df_list)\u001b[0m\n\u001b[0;32m     17\u001b[0m     '''\n\u001b[0;32m     18\u001b[0m     \u001b[1;31m# Drop rows with missing salary values\u001b[0m\u001b[1;33m\u001b[0m\u001b[1;33m\u001b[0m\u001b[1;33m\u001b[0m\u001b[0m\n\u001b[1;32m---> 19\u001b[1;33m     \u001b[0mdf_list\u001b[0m \u001b[1;33m=\u001b[0m \u001b[0mdf_list\u001b[0m\u001b[1;33m.\u001b[0m\u001b[0mdropna\u001b[0m\u001b[1;33m(\u001b[0m\u001b[0msubset\u001b[0m\u001b[1;33m=\u001b[0m\u001b[1;33m[\u001b[0m\u001b[1;34m'Salary'\u001b[0m\u001b[1;33m]\u001b[0m\u001b[1;33m,\u001b[0m \u001b[0maxis\u001b[0m\u001b[1;33m=\u001b[0m\u001b[1;36m0\u001b[0m\u001b[1;33m)\u001b[0m\u001b[1;33m\u001b[0m\u001b[1;33m\u001b[0m\u001b[0m\n\u001b[0m\u001b[0;32m     20\u001b[0m     \u001b[0my\u001b[0m \u001b[1;33m=\u001b[0m \u001b[0mdf\u001b[0m\u001b[1;33m[\u001b[0m\u001b[1;34m'Salary'\u001b[0m\u001b[1;33m]\u001b[0m\u001b[1;33m\u001b[0m\u001b[1;33m\u001b[0m\u001b[0m\n\u001b[0;32m     21\u001b[0m \u001b[1;33m\u001b[0m\u001b[0m\n",
      "\u001b[1;32m~\\AppData\\Local\\Programs\\Python\\Python38\\lib\\site-packages\\pandas\\core\\frame.py\u001b[0m in \u001b[0;36mdropna\u001b[1;34m(self, axis, how, thresh, subset, inplace)\u001b[0m\n\u001b[0;32m   5002\u001b[0m             \u001b[0mcheck\u001b[0m \u001b[1;33m=\u001b[0m \u001b[0mindices\u001b[0m \u001b[1;33m==\u001b[0m \u001b[1;33m-\u001b[0m\u001b[1;36m1\u001b[0m\u001b[1;33m\u001b[0m\u001b[1;33m\u001b[0m\u001b[0m\n\u001b[0;32m   5003\u001b[0m             \u001b[1;32mif\u001b[0m \u001b[0mcheck\u001b[0m\u001b[1;33m.\u001b[0m\u001b[0many\u001b[0m\u001b[1;33m(\u001b[0m\u001b[1;33m)\u001b[0m\u001b[1;33m:\u001b[0m\u001b[1;33m\u001b[0m\u001b[1;33m\u001b[0m\u001b[0m\n\u001b[1;32m-> 5004\u001b[1;33m                 \u001b[1;32mraise\u001b[0m \u001b[0mKeyError\u001b[0m\u001b[1;33m(\u001b[0m\u001b[0mlist\u001b[0m\u001b[1;33m(\u001b[0m\u001b[0mnp\u001b[0m\u001b[1;33m.\u001b[0m\u001b[0mcompress\u001b[0m\u001b[1;33m(\u001b[0m\u001b[0mcheck\u001b[0m\u001b[1;33m,\u001b[0m \u001b[0msubset\u001b[0m\u001b[1;33m)\u001b[0m\u001b[1;33m)\u001b[0m\u001b[1;33m)\u001b[0m\u001b[1;33m\u001b[0m\u001b[1;33m\u001b[0m\u001b[0m\n\u001b[0m\u001b[0;32m   5005\u001b[0m             \u001b[0magg_obj\u001b[0m \u001b[1;33m=\u001b[0m \u001b[0mself\u001b[0m\u001b[1;33m.\u001b[0m\u001b[0mtake\u001b[0m\u001b[1;33m(\u001b[0m\u001b[0mindices\u001b[0m\u001b[1;33m,\u001b[0m \u001b[0maxis\u001b[0m\u001b[1;33m=\u001b[0m\u001b[0magg_axis\u001b[0m\u001b[1;33m)\u001b[0m\u001b[1;33m\u001b[0m\u001b[1;33m\u001b[0m\u001b[0m\n\u001b[0;32m   5006\u001b[0m \u001b[1;33m\u001b[0m\u001b[0m\n",
      "\u001b[1;31mKeyError\u001b[0m: ['Salary']"
     ]
    }
   ],
   "source": [
    "def clean_data(df_list):\n",
    "    '''\n",
    "    INPUT\n",
    "    df - pandas dataframe \n",
    "    \n",
    "    OUTPUT\n",
    "    X - A matrix holding all of the variables you want to consider when predicting the response\n",
    "    y - the corresponding response vector\n",
    "    \n",
    "    This function cleans df using the following steps to produce X and y:\n",
    "    1. Drop all the rows with no salaries\n",
    "    2. Create X as all the columns that are not the Salary column\n",
    "    3. Create y as the Salary column\n",
    "    4. Drop the Salary, Respondent, and the ExpectedSalary columns from X\n",
    "    5. For each numeric variable in X, fill the column with the mean value of the column.\n",
    "    6. Create dummy columns for all the categorical variables in X, drop the original columns\n",
    "    '''\n",
    "    # Drop rows with missing salary values\n",
    "    df_list = df_list.dropna(subset=['Salary'], axis=0)\n",
    "    y = df['Salary']\n",
    "    \n",
    "    #Drop respondent and expected salary columns\n",
    "    df_list = df_list.drop(['Respondent', 'ExpectedSalary', 'Salary'], axis=1)\n",
    "    \n",
    "    # Fill numeric columns with the mean\n",
    "    num_vars = df_list.select_dtypes(include=['float', 'int']).columns\n",
    "    for col in num_vars:\n",
    "        df_list[col].fillna((df_list[col].mean()), inplace=True)\n",
    "        \n",
    "    # Dummy the categorical variables\n",
    "    cat_vars = df_list.select_dtypes(include=['object']).copy().columns\n",
    "    for var in  cat_vars:\n",
    "        # for each cat add dummy var, drop original column\n",
    "        df_list = pd.concat([df.drop(var, axis=1), pd.get_dummies(df_list[var], prefix=var, prefix_sep='_', drop_first=True)], axis=1)\n",
    "    \n",
    "    X = df_list\n",
    "    return X, y\n",
    "    \n",
    "#Use the function to create X and y\n",
    "X, y = clean_data(df_list)"
   ]
  },
  {
   "cell_type": "code",
   "execution_count": null,
   "metadata": {},
   "outputs": [],
   "source": [
    "#cutoffs here pertains to the number of missing values allowed in the used columns.\n",
    "#Therefore, lower values for the cutoff provides more predictors in the model.\n",
    "cutoffs = [5000, 3500, 2500, 1000, 100, 50, 30, 25]\n",
    "\n",
    "r2_scores_test, r2_scores_train, lm_model, X_train, X_test, y_train, y_test = t.find_optimal_lm_mod(X, y, cutoffs)"
   ]
  },
  {
   "cell_type": "code",
   "execution_count": null,
   "metadata": {},
   "outputs": [],
   "source": [
    "print(X_train.shape[1]) #Number of columns\n",
    "print(r2_scores_test[np.argmax(r2_scores_test)]) # The model we should implement test_r2\n",
    "print(r2_scores_train[np.argmax(r2_scores_test)]) # The model we should implement train_r"
   ]
  },
  {
   "cell_type": "code",
   "execution_count": null,
   "metadata": {},
   "outputs": [],
   "source": [
    "def coef_weights(coefficients, X_train):\n",
    "    '''\n",
    "    INPUT:\n",
    "    coefficients - the coefficients of the linear model \n",
    "    X_train - the training data, so the column names can be used\n",
    "    OUTPUT:\n",
    "    coefs_df - a dataframe holding the coefficient, estimate, and abs(estimate)\n",
    "    \n",
    "    Provides a dataframe that can be used to understand the most influential coefficients\n",
    "    in a linear model by providing the coefficient estimates along with the name of the \n",
    "    variable attached to the coefficient.\n",
    "    '''\n",
    "    coefs_df = pd.DataFrame()\n",
    "    coefs_df['est_int'] = X_train.columns\n",
    "    coefs_df['coefs'] = lm_model.coef_\n",
    "    coefs_df['abs_coefs'] = np.abs(lm_model.coef_)\n",
    "    coefs_df = coefs_df.sort_values('abs_coefs', ascending=False)\n",
    "    return coefs_df\n",
    "\n",
    "#Use the function\n",
    "coef_df = coef_weights(lm_model.coef_, X_train)\n",
    "\n",
    "#A quick look at the top results\n",
    "coef_df.head(20)"
   ]
  },
  {
   "cell_type": "code",
   "execution_count": null,
   "metadata": {},
   "outputs": [],
   "source": []
  },
  {
   "cell_type": "code",
   "execution_count": null,
   "metadata": {},
   "outputs": [],
   "source": [
    "# @title Features with most weight by Linear Regression\n",
    "\n",
    "# prep data, normalise, one-hot\n",
    "from sklearn import preprocessing\n",
    "min_max_scaler = preprocessing.MinMaxScaler()\n",
    "\n",
    "pd_model_data_x = listings[['neighbourhood_group_cleansed','property_type','room_type','accommodates','bathrooms','bedrooms']]\n",
    "pd_model_data_x['accommodates'] = min_max_scaler.fit_transform(pd_model_data_x[['accommodates']])\n",
    "pd_model_data_x['bathrooms'] = min_max_scaler.fit_transform(pd_model_data_x[['bathrooms']])\n",
    "pd_model_data_x['bedrooms'] = min_max_scaler.fit_transform(pd_model_data_x[['bedrooms']])\n",
    "\n",
    "pd_model_data_x = pd.get_dummies(pd_model_data_x, columns=['neighbourhood_group_cleansed','property_type','room_type'])\n",
    "pd_model_data_y = listings['price']\n",
    "\n",
    "# train and test - x and y\n",
    "from sklearn.model_selection import train_test_split\n",
    "X_train, X_test, y_train, y_test = train_test_split(pd_model_data_x,pd_model_data_y,test_size=0.2, random_state=42)\n",
    "\n",
    "# linear regression\n",
    "from sklearn.linear_model import LinearRegression\n",
    "lm = LinearRegression()\n",
    "lm.fit(X_train, y_train)\n",
    "\n",
    "coefficients = pd.DataFrame({'feature': X_train.columns, 'importance': lm.coef_})\n",
    "_ = coefficients.sort_values('importance', ascending=False)[:15].plot(x='feature', y='importance', kind='bar')"
   ]
  },
  {
   "cell_type": "code",
   "execution_count": null,
   "metadata": {},
   "outputs": [],
   "source": []
  },
  {
   "cell_type": "code",
   "execution_count": null,
   "metadata": {},
   "outputs": [],
   "source": []
  }
 ]
}